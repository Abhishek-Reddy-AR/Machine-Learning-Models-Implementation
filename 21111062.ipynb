{
 "cells": [
  {
   "cell_type": "markdown",
   "metadata": {},
   "source": [
    "# Q1.(a):KNN Regression model on Automobile Dataset"
   ]
  },
  {
   "cell_type": "markdown",
   "metadata": {},
   "source": [
    "importing required modules"
   ]
  },
  {
   "cell_type": "code",
   "execution_count": 237,
   "metadata": {},
   "outputs": [],
   "source": [
    "#IMPORTING REQUIRED MODULES(THAT ARE SPECIFIED IN THE ASSIGNMENT)\n",
    "\n",
    "import pandas as pd\n",
    "import numpy as np\n",
    "import matplotlib.pyplot as plt"
   ]
  },
  {
   "cell_type": "markdown",
   "metadata": {},
   "source": [
    "loading data"
   ]
  },
  {
   "cell_type": "code",
   "execution_count": 238,
   "metadata": {},
   "outputs": [],
   "source": [
    "#LOADING DATA FROM Automobile_data.csv file\n",
    "\n",
    "df=pd.read_csv(r'c:\\Users\\abhis\\Downloads\\archive\\Automobile_data.csv')"
   ]
  },
  {
   "cell_type": "markdown",
   "metadata": {},
   "source": [
    "knowing the data"
   ]
  },
  {
   "cell_type": "code",
   "execution_count": 239,
   "metadata": {},
   "outputs": [
    {
     "name": "stdout",
     "output_type": "stream",
     "text": [
      "   symboling normalized-losses         make fuel-type aspiration num-of-doors  \\\n",
      "0          3                 ?  alfa-romero       gas        std          two   \n",
      "1          3                 ?  alfa-romero       gas        std          two   \n",
      "2          1                 ?  alfa-romero       gas        std          two   \n",
      "3          2               164         audi       gas        std         four   \n",
      "4          2               164         audi       gas        std         four   \n",
      "\n",
      "    body-style drive-wheels engine-location  wheel-base  ...  engine-size  \\\n",
      "0  convertible          rwd           front        88.6  ...          130   \n",
      "1  convertible          rwd           front        88.6  ...          130   \n",
      "2    hatchback          rwd           front        94.5  ...          152   \n",
      "3        sedan          fwd           front        99.8  ...          109   \n",
      "4        sedan          4wd           front        99.4  ...          136   \n",
      "\n",
      "   fuel-system  bore  stroke compression-ratio horsepower  peak-rpm city-mpg  \\\n",
      "0         mpfi  3.47    2.68               9.0        111      5000       21   \n",
      "1         mpfi  3.47    2.68               9.0        111      5000       21   \n",
      "2         mpfi  2.68    3.47               9.0        154      5000       19   \n",
      "3         mpfi  3.19     3.4              10.0        102      5500       24   \n",
      "4         mpfi  3.19     3.4               8.0        115      5500       18   \n",
      "\n",
      "  highway-mpg  price  \n",
      "0          27  13495  \n",
      "1          27  16500  \n",
      "2          26  16500  \n",
      "3          30  13950  \n",
      "4          22  17450  \n",
      "\n",
      "[5 rows x 26 columns]\n",
      "(205, 26)\n",
      "Index(['symboling', 'normalized-losses', 'make', 'fuel-type', 'aspiration',\n",
      "       'num-of-doors', 'body-style', 'drive-wheels', 'engine-location',\n",
      "       'wheel-base', 'length', 'width', 'height', 'curb-weight', 'engine-type',\n",
      "       'num-of-cylinders', 'engine-size', 'fuel-system', 'bore', 'stroke',\n",
      "       'compression-ratio', 'horsepower', 'peak-rpm', 'city-mpg',\n",
      "       'highway-mpg', 'price'],\n",
      "      dtype='object')\n"
     ]
    }
   ],
   "source": [
    "#PRINTING THE GENERAL SPECIFICATIONS OF DATA\n",
    "\n",
    "print(df.head())\n",
    "print(df.shape)\n",
    "print(df.columns)"
   ]
  },
  {
   "cell_type": "markdown",
   "metadata": {},
   "source": [
    "finding if there are null values are not in our data"
   ]
  },
  {
   "cell_type": "code",
   "execution_count": 240,
   "metadata": {},
   "outputs": [
    {
     "data": {
      "text/plain": [
       "symboling            0\n",
       "normalized-losses    0\n",
       "make                 0\n",
       "fuel-type            0\n",
       "aspiration           0\n",
       "num-of-doors         0\n",
       "body-style           0\n",
       "drive-wheels         0\n",
       "engine-location      0\n",
       "wheel-base           0\n",
       "length               0\n",
       "width                0\n",
       "height               0\n",
       "curb-weight          0\n",
       "engine-type          0\n",
       "num-of-cylinders     0\n",
       "engine-size          0\n",
       "fuel-system          0\n",
       "bore                 0\n",
       "stroke               0\n",
       "compression-ratio    0\n",
       "horsepower           0\n",
       "peak-rpm             0\n",
       "city-mpg             0\n",
       "highway-mpg          0\n",
       "price                0\n",
       "dtype: int64"
      ]
     },
     "execution_count": 240,
     "metadata": {},
     "output_type": "execute_result"
    }
   ],
   "source": [
    "#COUNTING THE NUMBER OF NULL VALUES IN EACH COLUMN\n",
    "\n",
    "df.isnull().sum(axis=0)"
   ]
  },
  {
   "cell_type": "markdown",
   "metadata": {},
   "source": [
    "as you can see there are no null values in any of the columns\n",
    "\n",
    "but we have '?' in place of the null values\n",
    "\n",
    "we will now replace these '?' values with null values"
   ]
  },
  {
   "cell_type": "code",
   "execution_count": 241,
   "metadata": {},
   "outputs": [],
   "source": [
    "#REPLACING ALL THE'?' WITH NULL VALUES\n",
    "\n",
    "df[df=='?']=np.nan"
   ]
  },
  {
   "cell_type": "code",
   "execution_count": 242,
   "metadata": {},
   "outputs": [
    {
     "data": {
      "text/plain": [
       "symboling             0\n",
       "normalized-losses    41\n",
       "make                  0\n",
       "fuel-type             0\n",
       "aspiration            0\n",
       "num-of-doors          2\n",
       "body-style            0\n",
       "drive-wheels          0\n",
       "engine-location       0\n",
       "wheel-base            0\n",
       "length                0\n",
       "width                 0\n",
       "height                0\n",
       "curb-weight           0\n",
       "engine-type           0\n",
       "num-of-cylinders      0\n",
       "engine-size           0\n",
       "fuel-system           0\n",
       "bore                  4\n",
       "stroke                4\n",
       "compression-ratio     0\n",
       "horsepower            2\n",
       "peak-rpm              2\n",
       "city-mpg              0\n",
       "highway-mpg           0\n",
       "price                 4\n",
       "dtype: int64"
      ]
     },
     "execution_count": 242,
     "metadata": {},
     "output_type": "execute_result"
    }
   ],
   "source": [
    "#AFTER REPLACING ,NOW AGAIN COUNTING THE NUMBER OF NULL VALUES IN EACH COLUMN\n",
    "\n",
    "df.isnull().sum(axis=0)"
   ]
  },
  {
   "cell_type": "markdown",
   "metadata": {},
   "source": [
    "now as you can see 7 columns contain the null values\n",
    "\n",
    "we will replace these null values with the mode of that column"
   ]
  },
  {
   "cell_type": "code",
   "execution_count": 243,
   "metadata": {},
   "outputs": [],
   "source": [
    "#REPLACING THE NULL VALUES WITH THE MODE VALUE OF THAT COLUMN\n",
    "\n",
    "for col_name in ['normalized-losses','num-of-doors','bore','stroke','horsepower','peak-rpm','price']:\n",
    "    df[col_name].fillna(df[col_name].mode()[0],inplace=True)"
   ]
  },
  {
   "cell_type": "code",
   "execution_count": 244,
   "metadata": {},
   "outputs": [
    {
     "data": {
      "text/plain": [
       "symboling            0\n",
       "normalized-losses    0\n",
       "make                 0\n",
       "fuel-type            0\n",
       "aspiration           0\n",
       "num-of-doors         0\n",
       "body-style           0\n",
       "drive-wheels         0\n",
       "engine-location      0\n",
       "wheel-base           0\n",
       "length               0\n",
       "width                0\n",
       "height               0\n",
       "curb-weight          0\n",
       "engine-type          0\n",
       "num-of-cylinders     0\n",
       "engine-size          0\n",
       "fuel-system          0\n",
       "bore                 0\n",
       "stroke               0\n",
       "compression-ratio    0\n",
       "horsepower           0\n",
       "peak-rpm             0\n",
       "city-mpg             0\n",
       "highway-mpg          0\n",
       "price                0\n",
       "dtype: int64"
      ]
     },
     "execution_count": 244,
     "metadata": {},
     "output_type": "execute_result"
    }
   ],
   "source": [
    "#AFTER REPLACING NULL VALUES WITH MODE,AGAIN SEEIING WHETHER THERE ARE STILL ANY NULL VALUES\n",
    "df.isnull().sum(axis=0)"
   ]
  },
  {
   "cell_type": "markdown",
   "metadata": {},
   "source": [
    "as you can see now there are no null values , as the null values are replaced by mode of there respective columns"
   ]
  },
  {
   "cell_type": "code",
   "execution_count": 245,
   "metadata": {},
   "outputs": [
    {
     "data": {
      "text/plain": [
       "four    116\n",
       "two      89\n",
       "Name: num-of-doors, dtype: int64"
      ]
     },
     "execution_count": 245,
     "metadata": {},
     "output_type": "execute_result"
    }
   ],
   "source": [
    "#CALCULATING THE VALUE COUNTS OF 'num-of-doors' COLUMN\n",
    "\n",
    "df['num-of-doors'].value_counts()"
   ]
  },
  {
   "cell_type": "markdown",
   "metadata": {},
   "source": [
    "we will now convert four and two into numeric values,as we require numeric values in regression and their conversion makes sense"
   ]
  },
  {
   "cell_type": "code",
   "execution_count": 246,
   "metadata": {},
   "outputs": [
    {
     "data": {
      "text/plain": [
       "4    116\n",
       "2     89\n",
       "Name: num-of-doors, dtype: int64"
      ]
     },
     "execution_count": 246,
     "metadata": {},
     "output_type": "execute_result"
    }
   ],
   "source": [
    "#CONVERTING STRINGS INTO NUMBERIC VALUES\n",
    "\n",
    "df_temp=df['num-of-doors'].map({'two':2,'four':4})\n",
    "df['num-of-doors']=df_temp\n",
    "df['num-of-doors'].value_counts()"
   ]
  },
  {
   "cell_type": "markdown",
   "metadata": {},
   "source": [
    "as you can see we have converted them into numeric values\n",
    "\n",
    "now we will do the same for 'num-of-cylinders' column"
   ]
  },
  {
   "cell_type": "code",
   "execution_count": 247,
   "metadata": {},
   "outputs": [
    {
     "data": {
      "text/plain": [
       "four      159\n",
       "six        24\n",
       "five       11\n",
       "eight       5\n",
       "two         4\n",
       "twelve      1\n",
       "three       1\n",
       "Name: num-of-cylinders, dtype: int64"
      ]
     },
     "execution_count": 247,
     "metadata": {},
     "output_type": "execute_result"
    }
   ],
   "source": [
    "#CALCULATING THE VALUE COUNTS FOR 'num-of-cylinders' COLUMN\n",
    "\n",
    "df['num-of-cylinders'].value_counts()"
   ]
  },
  {
   "cell_type": "code",
   "execution_count": 248,
   "metadata": {},
   "outputs": [
    {
     "data": {
      "text/plain": [
       "4     159\n",
       "6      24\n",
       "5      11\n",
       "8       5\n",
       "2       4\n",
       "12      1\n",
       "3       1\n",
       "Name: num-of-cylinders, dtype: int64"
      ]
     },
     "execution_count": 248,
     "metadata": {},
     "output_type": "execute_result"
    }
   ],
   "source": [
    "#CONVERTING STRINGS INTO NUMERIC VALUES\n",
    "\n",
    "df_temp=df['num-of-cylinders'].map({'four':4,'five':5,'six':6,'two':2,'three':3,'eight':8,'twelve':12})\n",
    "df['num-of-cylinders']=df_temp\n",
    "df['num-of-cylinders'].value_counts()"
   ]
  },
  {
   "cell_type": "markdown",
   "metadata": {},
   "source": [
    "lets now see the correlation between the price and the numerical attributes\n"
   ]
  },
  {
   "cell_type": "code",
   "execution_count": 249,
   "metadata": {
    "scrolled": true
   },
   "outputs": [
    {
     "data": {
      "text/html": [
       "<div>\n",
       "<style scoped>\n",
       "    .dataframe tbody tr th:only-of-type {\n",
       "        vertical-align: middle;\n",
       "    }\n",
       "\n",
       "    .dataframe tbody tr th {\n",
       "        vertical-align: top;\n",
       "    }\n",
       "\n",
       "    .dataframe thead th {\n",
       "        text-align: right;\n",
       "    }\n",
       "</style>\n",
       "<table border=\"1\" class=\"dataframe\">\n",
       "  <thead>\n",
       "    <tr style=\"text-align: right;\">\n",
       "      <th></th>\n",
       "      <th>price</th>\n",
       "    </tr>\n",
       "  </thead>\n",
       "  <tbody>\n",
       "    <tr>\n",
       "      <th>price</th>\n",
       "      <td>1.000000</td>\n",
       "    </tr>\n",
       "    <tr>\n",
       "      <th>engine-size</th>\n",
       "      <td>0.861769</td>\n",
       "    </tr>\n",
       "    <tr>\n",
       "      <th>curb-weight</th>\n",
       "      <td>0.820807</td>\n",
       "    </tr>\n",
       "    <tr>\n",
       "      <th>horsepower</th>\n",
       "      <td>0.759731</td>\n",
       "    </tr>\n",
       "    <tr>\n",
       "      <th>width</th>\n",
       "      <td>0.729009</td>\n",
       "    </tr>\n",
       "    <tr>\n",
       "      <th>num-of-cylinders</th>\n",
       "      <td>0.688346</td>\n",
       "    </tr>\n",
       "    <tr>\n",
       "      <th>length</th>\n",
       "      <td>0.682528</td>\n",
       "    </tr>\n",
       "    <tr>\n",
       "      <th>wheel-base</th>\n",
       "      <td>0.582915</td>\n",
       "    </tr>\n",
       "    <tr>\n",
       "      <th>bore</th>\n",
       "      <td>0.525878</td>\n",
       "    </tr>\n",
       "    <tr>\n",
       "      <th>normalized-losses</th>\n",
       "      <td>0.317097</td>\n",
       "    </tr>\n",
       "    <tr>\n",
       "      <th>height</th>\n",
       "      <td>0.133761</td>\n",
       "    </tr>\n",
       "    <tr>\n",
       "      <th>stroke</th>\n",
       "      <td>0.081537</td>\n",
       "    </tr>\n",
       "    <tr>\n",
       "      <th>compression-ratio</th>\n",
       "      <td>0.070789</td>\n",
       "    </tr>\n",
       "    <tr>\n",
       "      <th>num-of-doors</th>\n",
       "      <td>0.041482</td>\n",
       "    </tr>\n",
       "    <tr>\n",
       "      <th>symboling</th>\n",
       "      <td>-0.082396</td>\n",
       "    </tr>\n",
       "    <tr>\n",
       "      <th>peak-rpm</th>\n",
       "      <td>-0.103493</td>\n",
       "    </tr>\n",
       "    <tr>\n",
       "      <th>city-mpg</th>\n",
       "      <td>-0.667215</td>\n",
       "    </tr>\n",
       "    <tr>\n",
       "      <th>highway-mpg</th>\n",
       "      <td>-0.690173</td>\n",
       "    </tr>\n",
       "  </tbody>\n",
       "</table>\n",
       "</div>"
      ],
      "text/plain": [
       "                      price\n",
       "price              1.000000\n",
       "engine-size        0.861769\n",
       "curb-weight        0.820807\n",
       "horsepower         0.759731\n",
       "width              0.729009\n",
       "num-of-cylinders   0.688346\n",
       "length             0.682528\n",
       "wheel-base         0.582915\n",
       "bore               0.525878\n",
       "normalized-losses  0.317097\n",
       "height             0.133761\n",
       "stroke             0.081537\n",
       "compression-ratio  0.070789\n",
       "num-of-doors       0.041482\n",
       "symboling         -0.082396\n",
       "peak-rpm          -0.103493\n",
       "city-mpg          -0.667215\n",
       "highway-mpg       -0.690173"
      ]
     },
     "execution_count": 249,
     "metadata": {},
     "output_type": "execute_result"
    }
   ],
   "source": [
    "#CONVERTING COLUMNS THAT HAVE OBJECT TYPE INTO  NUMERIC TYPE\n",
    "\n",
    "for column_name in ['normalized-losses','bore','stroke','horsepower','peak-rpm','price']:\n",
    " df[column_name]=pd.to_numeric(df[column_name])\n",
    "\n",
    "#SELECTING THE NUMERIC FEATURES FROM OUR DATA\n",
    "\n",
    "numerical_features=df.select_dtypes(include=np.number)\n",
    "\n",
    "#FINDING THE CORRELATION AMONG ALL THE NUMERIC FEATURES\n",
    "\n",
    "correlation=numerical_features.corr()\n",
    "\n",
    "#SELECTING ONLY THE CORREALTION BETWEEN PRICE COLUMN AND ALL OTHER NUMERIC FEATURES\n",
    "\n",
    "num_corr=correlation['price'].sort_values(ascending=False).to_frame()\n",
    "\n",
    "#AFTER SORTING THE CORRELATION VALUES ,PRINTING THEM\n",
    "\n",
    "num_corr"
   ]
  },
  {
   "cell_type": "markdown",
   "metadata": {},
   "source": [
    "as you can see engine-size,curb-weight,horsepower have high correlation with price \n",
    "so let us have a look at the plots corresponding with these features"
   ]
  },
  {
   "cell_type": "code",
   "execution_count": 250,
   "metadata": {},
   "outputs": [
    {
     "data": {
      "image/png": "[encoded data removed]",
      "text/plain": [
       "<Figure size 720x216 with 1 Axes>"
      ]
     },
     "metadata": {
      "needs_background": "light"
     },
     "output_type": "display_data"
    },
    {
     "data": {
      "image/png": "[encoded data removed]",
      "text/plain": [
       "<Figure size 720x216 with 1 Axes>"
      ]
     },
     "metadata": {
      "needs_background": "light"
     },
     "output_type": "display_data"
    },
    {
     "data": {
      "image/png": "[encoded data removed]",
      "text/plain": [
       "<Figure size 720x216 with 1 Axes>"
      ]
     },
     "metadata": {
      "needs_background": "light"
     },
     "output_type": "display_data"
    }
   ],
   "source": [
    "#PLOTTING HOW THE VALUES OF TOP CORRELATED COLUMNS TO PRICE CHANGE\n",
    "\n",
    "for column_name in ['engine-size','horsepower','curb-weight'] :\n",
    " plt.figure(figsize=(10,3))\n",
    " plt.scatter(x=df[column_name],y=df['price'],color='blue',alpha=0.6)\n",
    " plt.xlabel(column_name,weight='bold',fontsize=12)\n",
    " plt.ylabel('Price',weight='bold',fontsize=12)\n",
    " plt.xticks(weight='bold')\n",
    " plt.yticks(weight='bold')\n",
    " plt.show()"
   ]
  },
  {
   "cell_type": "markdown",
   "metadata": {},
   "source": [
    "now let us drop some of the less correlated"
   ]
  },
  {
   "cell_type": "code",
   "execution_count": 251,
   "metadata": {},
   "outputs": [
    {
     "data": {
      "text/plain": [
       "Index(['make', 'fuel-type', 'aspiration', 'body-style', 'drive-wheels',\n",
       "       'engine-location', 'wheel-base', 'length', 'width', 'curb-weight',\n",
       "       'engine-type', 'num-of-cylinders', 'engine-size', 'fuel-system', 'bore',\n",
       "       'horsepower', 'price'],\n",
       "      dtype='object')"
      ]
     },
     "execution_count": 251,
     "metadata": {},
     "output_type": "execute_result"
    }
   ],
   "source": [
    "#DROPPING THE COLUMNS THAT HAVE LESS CORRELATION WITH PRICE\n",
    "\n",
    "df=df.drop(['normalized-losses','height','stroke','compression-ratio','num-of-doors','symboling','peak-rpm','city-mpg','highway-mpg'],axis=1)\n",
    "df.columns"
   ]
  },
  {
   "cell_type": "markdown",
   "metadata": {},
   "source": [
    "let us now drop some of the categorical variables that have large no of categories,to decrease the size of dimensions"
   ]
  },
  {
   "cell_type": "code",
   "execution_count": 252,
   "metadata": {},
   "outputs": [
    {
     "data": {
      "text/plain": [
       "Index(['fuel-type', 'aspiration', 'body-style', 'drive-wheels',\n",
       "       'engine-location', 'wheel-base', 'length', 'width', 'curb-weight',\n",
       "       'num-of-cylinders', 'engine-size', 'bore', 'horsepower', 'price'],\n",
       "      dtype='object')"
      ]
     },
     "execution_count": 252,
     "metadata": {},
     "output_type": "execute_result"
    }
   ],
   "source": [
    "#DROPPING MORE COLUMNS TO DECREASE DIMENSIONS(MENTIONED IN ASSIGNMENT THAT WE CAN DO THIS)\n",
    "\n",
    "df=df.drop(['make', 'engine-type',  'fuel-system'],axis=1)\n",
    "df.columns"
   ]
  },
  {
   "cell_type": "markdown",
   "metadata": {},
   "source": [
    "now let us convert the categorical features into one hot encoding"
   ]
  },
  {
   "cell_type": "code",
   "execution_count": 253,
   "metadata": {},
   "outputs": [
    {
     "data": {
      "text/plain": [
       "Index(['wheel-base', 'length', 'width', 'curb-weight', 'num-of-cylinders',\n",
       "       'engine-size', 'bore', 'horsepower', 'price', 'fueltype_diesel',\n",
       "       'fueltype_gas', 'aspiration_std', 'aspiration_turbo',\n",
       "       'bodystyle_convertible', 'bodystyle_hardtop', 'bodystyle_hatchback',\n",
       "       'bodystyle_sedan', 'bodystyle_wagon', 'drivewheels_4wd',\n",
       "       'drivewheels_fwd', 'drivewheels_rwd', 'enginelocation_front',\n",
       "       'enginelocation_rear'],\n",
       "      dtype='object')"
      ]
     },
     "execution_count": 253,
     "metadata": {},
     "output_type": "execute_result"
    }
   ],
   "source": [
    "#CONVERTING CATEGORICAL FEATURES INTO ONE HOT ENCODINGS\n",
    "\n",
    "df=pd.get_dummies(df,columns=['fuel-type','aspiration','body-style', 'drive-wheels',\n",
    "       'engine-location'],prefix=['fueltype','aspiration','bodystyle', 'drivewheels',\n",
    "       'enginelocation'])\n",
    "df.columns"
   ]
  },
  {
   "cell_type": "markdown",
   "metadata": {},
   "source": [
    "now let us normalize the features using min max normalization"
   ]
  },
  {
   "cell_type": "code",
   "execution_count": 254,
   "metadata": {},
   "outputs": [],
   "source": [
    "#FINDING MAX VALUE OF EACH COLUMN\n",
    "\n",
    "max_values=np.max(df)\n",
    "\n",
    "#FINDING MIN VALUE OF EACH COLUMN\n",
    "\n",
    "min_values=np.min(df)\n"
   ]
  },
  {
   "cell_type": "code",
   "execution_count": 255,
   "metadata": {},
   "outputs": [
    {
     "name": "stdout",
     "output_type": "stream",
     "text": [
      "   wheel-base    length     width  curb-weight  num-of-cylinders  engine-size  \\\n",
      "0    0.058309  0.413433  0.316667     0.411171               0.2     0.260377   \n",
      "1    0.058309  0.413433  0.316667     0.411171               0.2     0.260377   \n",
      "2    0.230321  0.449254  0.433333     0.517843               0.4     0.343396   \n",
      "3    0.384840  0.529851  0.491667     0.329325               0.2     0.181132   \n",
      "4    0.373178  0.529851  0.508333     0.518231               0.3     0.283019   \n",
      "\n",
      "       bore  horsepower  price  fueltype_diesel  ...  bodystyle_convertible  \\\n",
      "0  0.664286    0.262500  13495              0.0  ...                    1.0   \n",
      "1  0.664286    0.262500  16500              0.0  ...                    1.0   \n",
      "2  0.100000    0.441667  16500              0.0  ...                    0.0   \n",
      "3  0.464286    0.225000  13950              0.0  ...                    0.0   \n",
      "4  0.464286    0.279167  17450              0.0  ...                    0.0   \n",
      "\n",
      "   bodystyle_hardtop  bodystyle_hatchback  bodystyle_sedan  bodystyle_wagon  \\\n",
      "0                0.0                  0.0              0.0              0.0   \n",
      "1                0.0                  0.0              0.0              0.0   \n",
      "2                0.0                  1.0              0.0              0.0   \n",
      "3                0.0                  0.0              1.0              0.0   \n",
      "4                0.0                  0.0              1.0              0.0   \n",
      "\n",
      "   drivewheels_4wd  drivewheels_fwd  drivewheels_rwd  enginelocation_front  \\\n",
      "0              0.0              0.0              1.0                   1.0   \n",
      "1              0.0              0.0              1.0                   1.0   \n",
      "2              0.0              0.0              1.0                   1.0   \n",
      "3              0.0              1.0              0.0                   1.0   \n",
      "4              1.0              0.0              0.0                   1.0   \n",
      "\n",
      "   enginelocation_rear  \n",
      "0                  0.0  \n",
      "1                  0.0  \n",
      "2                  0.0  \n",
      "3                  0.0  \n",
      "4                  0.0  \n",
      "\n",
      "[5 rows x 23 columns]\n"
     ]
    }
   ],
   "source": [
    "#MIN-MAX NORMALIZATION FOR ALL COLUMNS EXCEPT PRICE COLUMN(AS IT IS THE OUTPUT )\n",
    "\n",
    "for col_num in range(df.shape[1]):\n",
    "   if col_num!=8:\n",
    "        df[df.columns[col_num]]=(df[df.columns[col_num]]-min_values[col_num])/(max_values[col_num]-min_values[col_num])\n",
    "print(df.head())"
   ]
  },
  {
   "cell_type": "markdown",
   "metadata": {},
   "source": [
    "we have noramalized all the input features "
   ]
  },
  {
   "cell_type": "markdown",
   "metadata": {},
   "source": [
    "now let us split the data into train,test,validate"
   ]
  },
  {
   "cell_type": "code",
   "execution_count": 256,
   "metadata": {},
   "outputs": [
    {
     "name": "stdout",
     "output_type": "stream",
     "text": [
      "205\n",
      "162 43\n",
      "123 39\n"
     ]
    }
   ],
   "source": [
    "#DATA SPLITTING\n",
    "\n",
    "np.random.seed(1)\n",
    "\n",
    "#TEST-TRAIN SPLIT\n",
    "\n",
    "mask=np.random.rand(len(df))<0.8\n",
    "train_df=df[mask]\n",
    "test_df=df[~mask]\n",
    "print(len(df))\n",
    "print(len(train_df),len(test_df))\n",
    "\n",
    "#SPLITTING TRAIN DATA AGAIN INTO TRAINFINAL AND VALIDATION\n",
    "\n",
    "mask1=np.random.rand(len(train_df))<0.8\n",
    "trainfinal_df=train_df[mask1]\n",
    "valid_df=train_df[~mask1]\n",
    "print(len(trainfinal_df),len(valid_df))\n"
   ]
  },
  {
   "cell_type": "markdown",
   "metadata": {},
   "source": [
    "now let us define euclidean distance function"
   ]
  },
  {
   "cell_type": "code",
   "execution_count": 257,
   "metadata": {},
   "outputs": [],
   "source": [
    "#FUNCTION TO CALCULATE EUCLIDEAN DISTANCE\n",
    "\n",
    "def euclidean_distance(vector1,vector2):\n",
    "    distance=np.sqrt(np.sum((np.array(vector1)-np.array(vector2))**2))\n",
    "    return distance"
   ]
  },
  {
   "cell_type": "markdown",
   "metadata": {},
   "source": [
    "now let us define prediction function"
   ]
  },
  {
   "cell_type": "code",
   "execution_count": 258,
   "metadata": {},
   "outputs": [],
   "source": [
    "#FUNCTIN TO PREDICT THE Y VALUE BASED OF TRAIN DATA AND K VALUE\n",
    "\n",
    "def prediction(x_train,y_train,x_input,k):\n",
    "    \n",
    "    #TO STORE DISTANCE FROM TEST POINT TO EACH TRAIN POINT\n",
    "    \n",
    "    point_distance=[] \n",
    "    \n",
    "    #LOOPING THROUGH EACH TRAIN ROW AND CALCULATING DISTANCE FROM TEST POINT \n",
    "    \n",
    "    for train_row in range(len(x_train)):\n",
    "        distances=euclidean_distance(x_train[train_row:train_row+1],x_input)\n",
    "        point_distance.append(distances)\n",
    "    point_distance=np.array(point_distance)\n",
    "    \n",
    "    #SORTING THE POINT DISTANCES ARRAY WHILE PRESERVING THE INDICES\n",
    "    \n",
    "    distance=np.argsort(point_distance)[:k]\n",
    "    sum=np.array([])\n",
    "    \n",
    "    #LOOPING THROUGH EACH OF K CLOSE NEIGHBOURS AND ADDING THEIR PRICE VALUES\n",
    "    \n",
    "    for i in range(k):\n",
    "        index=distance[i]\n",
    "        y_value=y_train[index:index+1]\n",
    "        sum=np.append(sum,np.array(y_value))\n",
    "    \n",
    "    #RETURNING THE AVERAGE PRICE OF THE K NEAREST NEIGHBOURS\n",
    "    \n",
    "    return sum.sum()/k\n",
    "    "
   ]
  },
  {
   "cell_type": "markdown",
   "metadata": {},
   "source": [
    "now let us define rmse function to calculate Root Mean Squared Error"
   ]
  },
  {
   "cell_type": "code",
   "execution_count": 259,
   "metadata": {},
   "outputs": [],
   "source": [
    "#FUNCTION TO PREDICT THE ROOT MEAN SQUARED ERROR\n",
    "\n",
    "def rmse(train,test,k):\n",
    "    \n",
    "    #DIVIDING DATA INTO SEPERATE INPUT AND OUTPUT FEATURES \n",
    "    \n",
    "    train_x=train[['wheel-base', 'length', 'width', 'curb-weight', 'num-of-cylinders',\n",
    "       'engine-size', 'bore', 'horsepower', 'fueltype_diesel',\n",
    "       'fueltype_gas', 'aspiration_std', 'aspiration_turbo',\n",
    "       'bodystyle_convertible', 'bodystyle_hardtop', 'bodystyle_hatchback',\n",
    "       'bodystyle_sedan', 'bodystyle_wagon', 'drivewheels_4wd',\n",
    "       'drivewheels_fwd', 'drivewheels_rwd', 'enginelocation_front',\n",
    "       'enginelocation_rear']]\n",
    "    train_y=train[['price']]\n",
    "    test_x=test[['wheel-base', 'length', 'width', 'curb-weight', 'num-of-cylinders',\n",
    "       'engine-size', 'bore', 'horsepower', 'fueltype_diesel',\n",
    "       'fueltype_gas', 'aspiration_std', 'aspiration_turbo',\n",
    "       'bodystyle_convertible', 'bodystyle_hardtop', 'bodystyle_hatchback',\n",
    "       'bodystyle_sedan', 'bodystyle_wagon', 'drivewheels_4wd',\n",
    "       'drivewheels_fwd', 'drivewheels_rwd', 'enginelocation_front',\n",
    "       'enginelocation_rear']]\n",
    "    test_y=test[['price']]\n",
    "    rmse=0\n",
    "    \n",
    "    #LOOPING THROUGH EACH TEST ROW AND CALCULATING THE ERROR IN PREDICTION\n",
    "    \n",
    "    for test_row in range(len(test_x)):\n",
    "        \n",
    "        #GETTING THE PREDICTED VALUE\n",
    "        \n",
    "        y_pred=prediction(train_x,train_y,test_x[test_row:test_row+1],k)\n",
    "        \n",
    "        #FINDING THE ERROR BETWEEN THE ACTUAL AND THE PREDICTED VALUE\n",
    "        \n",
    "        error=((y_pred-np.array(test_y[test_row:test_row+1]))**2)\n",
    "        \n",
    "        #ADDING ALL THE ERRORS IN PREDICTION\n",
    "        \n",
    "        rmse+=error\n",
    "    \n",
    "    #CALCULATING THE RMSE\n",
    "    \n",
    "    rmse=np.sqrt(rmse/len(test_x))\n",
    "    return rmse"
   ]
  },
  {
   "cell_type": "markdown",
   "metadata": {},
   "source": [
    "now finally let us see the validation set error by giving trainfinal_df and valid_df as inputs to the rmse function\n",
    "with k value=3"
   ]
  },
  {
   "cell_type": "code",
   "execution_count": 260,
   "metadata": {
    "scrolled": true
   },
   "outputs": [
    {
     "name": "stdout",
     "output_type": "stream",
     "text": [
      "VALIDATION SET PERFORMANCE USING ROOT MEAN SQUARED ERROR AND K=3 IS: [[5259.69724492]]\n"
     ]
    }
   ],
   "source": [
    "print('VALIDATION SET PERFORMANCE USING ROOT MEAN SQUARED ERROR AND K=3 IS:',rmse(trainfinal_df,valid_df,3))"
   ]
  },
  {
   "cell_type": "markdown",
   "metadata": {},
   "source": [
    "# Q1(b): calculating the optimal k using cross validation"
   ]
  },
  {
   "cell_type": "markdown",
   "metadata": {},
   "source": [
    "dividing the train data into 4 equal parts for 4 fold cross validation"
   ]
  },
  {
   "cell_type": "code",
   "execution_count": 261,
   "metadata": {},
   "outputs": [
    {
     "name": "stdout",
     "output_type": "stream",
     "text": [
      "(162, 23) (81, 23) (81, 23) (40, 23) (41, 23) (40, 23) (41, 23)\n"
     ]
    }
   ],
   "source": [
    "#FIRST DIVING TRAIN DATA INTO 2 EQUAL PARTS\n",
    "\n",
    "part1=train_df.sample(frac=0.5)\n",
    "part2=train_df.drop(part1.index)\n",
    "\n",
    "#NOW FURTHER DIVIDING THE DIVIDED PARTS INTO 2 SO THAT WE GET 4 PARTS\n",
    "\n",
    "part11=part1.sample(frac=0.5)\n",
    "part12=part1.drop(part11.index)\n",
    "part21=part2.sample(frac=0.5)\n",
    "part22=part2.drop(part21.index)\n",
    "print(train_df.shape,part1.shape,part2.shape,part11.shape,part12.shape,part21.shape,part22.shape)"
   ]
  },
  {
   "cell_type": "markdown",
   "metadata": {},
   "source": [
    "defining cross validation function"
   ]
  },
  {
   "cell_type": "code",
   "execution_count": 262,
   "metadata": {},
   "outputs": [],
   "source": [
    "#DEFINING CROSS VALIDATION FUNCTION\n",
    "\n",
    "def cross_val(k):\n",
    "    \n",
    "    #CONCATENATING THREE DIFFERENT PARTS EACH TIME \n",
    "    \n",
    "    train123=pd.concat([part11,part12,part21])\n",
    "    train124=pd.concat([part11,part12,part22])\n",
    "    train134=pd.concat([part11,part21,part22])\n",
    "    train234=pd.concat([part12,part21,part22])\n",
    "    \n",
    "    #GIVING THE CONCATED PART AS TRAIN AND THE LEFT PART AS TEST TO RMSE METHOD\n",
    "    \n",
    "    rmse1=rmse(train123,part22,k)\n",
    "    rmse2=rmse(train124,part21,k)\n",
    "    rmse3=rmse(train134,part12,k)\n",
    "    rmse4=rmse(train234,part11,k)\n",
    "    \n",
    "    #CALCULATING THE AVERAGE RMSE VALUE\n",
    "    avgrmse=(rmse1+rmse2+rmse3+rmse4)/4\n",
    "    return avgrmse\n",
    "    "
   ]
  },
  {
   "cell_type": "code",
   "execution_count": 263,
   "metadata": {},
   "outputs": [
    {
     "name": "stdout",
     "output_type": "stream",
     "text": [
      "rmse for k= 1 using 4 fold cross validation is: [[4748.87107772]]\n",
      "rmse for k= 2 using 4 fold cross validation is: [[5017.36153176]]\n",
      "rmse for k= 3 using 4 fold cross validation is: [[5117.6382957]]\n",
      "rmse for k= 4 using 4 fold cross validation is: [[4787.8969608]]\n",
      "rmse for k= 5 using 4 fold cross validation is: [[4470.579109]]\n",
      "rmse for k= 6 using 4 fold cross validation is: [[4276.81024396]]\n",
      "rmse for k= 7 using 4 fold cross validation is: [[4405.47464891]]\n",
      "rmse for k= 8 using 4 fold cross validation is: [[4596.82215305]]\n",
      "rmse for k= 9 using 4 fold cross validation is: [[4698.52238769]]\n",
      "rmse for k= 10 using 4 fold cross validation is: [[4879.68980719]]\n",
      "rmse for k= 11 using 4 fold cross validation is: [[4942.39106301]]\n",
      "rmse for k= 12 using 4 fold cross validation is: [[4818.15180244]]\n",
      "rmse for k= 13 using 4 fold cross validation is: [[4744.78107561]]\n",
      "rmse for k= 14 using 4 fold cross validation is: [[4783.9998165]]\n",
      "rmse for k= 15 using 4 fold cross validation is: [[4819.50993751]]\n",
      "rmse for k= 16 using 4 fold cross validation is: [[4795.2677265]]\n",
      "rmse for k= 17 using 4 fold cross validation is: [[4831.76777451]]\n",
      "rmse for k= 18 using 4 fold cross validation is: [[4838.40205904]]\n",
      "rmse for k= 19 using 4 fold cross validation is: [[4863.44534791]]\n",
      "rmse for k= 20 using 4 fold cross validation is: [[4910.54552075]]\n",
      "rmse for k= 21 using 4 fold cross validation is: [[4943.86560559]]\n",
      "rmse for k= 22 using 4 fold cross validation is: [[5013.708891]]\n",
      "rmse for k= 23 using 4 fold cross validation is: [[5026.51791389]]\n",
      "rmse for k= 24 using 4 fold cross validation is: [[5088.23339556]]\n",
      "rmse for k= 25 using 4 fold cross validation is: [[5136.05086366]]\n",
      "rmse for k= 26 using 4 fold cross validation is: [[5173.96031817]]\n",
      "rmse for k= 27 using 4 fold cross validation is: [[5201.24789907]]\n",
      "rmse for k= 28 using 4 fold cross validation is: [[5244.13619461]]\n",
      "rmse for k= 29 using 4 fold cross validation is: [[5253.48477167]]\n",
      "rmse for k= 30 using 4 fold cross validation is: [[5271.26252765]]\n",
      "rmse for k= 31 using 4 fold cross validation is: [[5269.07145607]]\n",
      "rmse for k= 32 using 4 fold cross validation is: [[5279.30680236]]\n",
      "rmse for k= 33 using 4 fold cross validation is: [[5292.201835]]\n",
      "rmse for k= 34 using 4 fold cross validation is: [[5338.97513426]]\n",
      "rmse for k= 35 using 4 fold cross validation is: [[5374.81532362]]\n",
      "rmse for k= 36 using 4 fold cross validation is: [[5398.12610068]]\n",
      "rmse for k= 37 using 4 fold cross validation is: [[5393.67165472]]\n",
      "rmse for k= 38 using 4 fold cross validation is: [[5397.3841275]]\n",
      "rmse for k= 39 using 4 fold cross validation is: [[5415.83437101]]\n",
      "rmse for k= 40 using 4 fold cross validation is: [[5439.45233285]]\n",
      "rmse for k= 41 using 4 fold cross validation is: [[5455.50266727]]\n",
      "rmse for k= 42 using 4 fold cross validation is: [[5475.49087296]]\n",
      "rmse for k= 43 using 4 fold cross validation is: [[5494.36599174]]\n",
      "rmse for k= 44 using 4 fold cross validation is: [[5507.20095358]]\n",
      "rmse for k= 45 using 4 fold cross validation is: [[5530.53530641]]\n",
      "rmse for k= 46 using 4 fold cross validation is: [[5557.24816171]]\n",
      "rmse for k= 47 using 4 fold cross validation is: [[5559.57892926]]\n",
      "rmse for k= 48 using 4 fold cross validation is: [[5568.53267812]]\n",
      "rmse for k= 49 using 4 fold cross validation is: [[5599.00968879]]\n",
      "OPTIMAL K VALUE USING 4 FOLD CROSS VALIDATION IS 6 THE RMSE VALUE IS [[4276.81024396]]\n"
     ]
    }
   ],
   "source": [
    "#RUNNING THE CROSS VALIDATION FOR DIFFERENT VALUES OF K AND FINDING THE BEST K VALUE\n",
    "\n",
    "best_k=0\n",
    "best_rmse=1000000\n",
    "for i in range(1,50):\n",
    "    avgrmse=cross_val(i)\n",
    "    print('rmse for k=',i,'using 4 fold cross validation is:',avgrmse)\n",
    "    if avgrmse<best_rmse:\n",
    "        best_rmse=avgrmse\n",
    "        best_k=i\n",
    "print('OPTIMAL K VALUE USING 4 FOLD CROSS VALIDATION IS',best_k,'THE RMSE VALUE IS',best_rmse)\n",
    "    "
   ]
  },
  {
   "cell_type": "markdown",
   "metadata": {},
   "source": [
    "# Q2(a):Training Decision tree on census income dataset"
   ]
  },
  {
   "cell_type": "markdown",
   "metadata": {},
   "source": [
    "loading the data"
   ]
  },
  {
   "cell_type": "code",
   "execution_count": 264,
   "metadata": {},
   "outputs": [],
   "source": [
    "#DATA LOADING\n",
    "\n",
    "df=pd.read_csv(r'C:\\Users\\abhis\\Downloads\\adult.csv')"
   ]
  },
  {
   "cell_type": "markdown",
   "metadata": {},
   "source": [
    "examining the data specifications"
   ]
  },
  {
   "cell_type": "code",
   "execution_count": 265,
   "metadata": {},
   "outputs": [
    {
     "name": "stdout",
     "output_type": "stream",
     "text": [
      "   age workclass  fnlwgt     education  education.num marital.status  \\\n",
      "0   90         ?   77053       HS-grad              9        Widowed   \n",
      "1   82   Private  132870       HS-grad              9        Widowed   \n",
      "2   66         ?  186061  Some-college             10        Widowed   \n",
      "3   54   Private  140359       7th-8th              4       Divorced   \n",
      "4   41   Private  264663  Some-college             10      Separated   \n",
      "\n",
      "          occupation   relationship   race     sex  capital.gain  \\\n",
      "0                  ?  Not-in-family  White  Female             0   \n",
      "1    Exec-managerial  Not-in-family  White  Female             0   \n",
      "2                  ?      Unmarried  Black  Female             0   \n",
      "3  Machine-op-inspct      Unmarried  White  Female             0   \n",
      "4     Prof-specialty      Own-child  White  Female             0   \n",
      "\n",
      "   capital.loss  hours.per.week native.country income  \n",
      "0          4356              40  United-States  <=50K  \n",
      "1          4356              18  United-States  <=50K  \n",
      "2          4356              40  United-States  <=50K  \n",
      "3          3900              40  United-States  <=50K  \n",
      "4          3900              40  United-States  <=50K  \n",
      "(32561, 15)\n",
      "Index(['age', 'workclass', 'fnlwgt', 'education', 'education.num',\n",
      "       'marital.status', 'occupation', 'relationship', 'race', 'sex',\n",
      "       'capital.gain', 'capital.loss', 'hours.per.week', 'native.country',\n",
      "       'income'],\n",
      "      dtype='object')\n"
     ]
    }
   ],
   "source": [
    "#PRINTING SPECIFICATIONS OF DATA\n",
    "\n",
    "print(df.head())\n",
    "print(df.shape)\n",
    "print(df.columns)"
   ]
  },
  {
   "cell_type": "markdown",
   "metadata": {},
   "source": [
    "checking if there are any null values in each column"
   ]
  },
  {
   "cell_type": "code",
   "execution_count": 266,
   "metadata": {},
   "outputs": [
    {
     "data": {
      "text/plain": [
       "age               0\n",
       "workclass         0\n",
       "fnlwgt            0\n",
       "education         0\n",
       "education.num     0\n",
       "marital.status    0\n",
       "occupation        0\n",
       "relationship      0\n",
       "race              0\n",
       "sex               0\n",
       "capital.gain      0\n",
       "capital.loss      0\n",
       "hours.per.week    0\n",
       "native.country    0\n",
       "income            0\n",
       "dtype: int64"
      ]
     },
     "execution_count": 266,
     "metadata": {},
     "output_type": "execute_result"
    }
   ],
   "source": [
    "#FINDING THE NO OF NULL VALUES IN EACH COLUMN\n",
    "\n",
    "df.isnull().sum(axis=0)"
   ]
  },
  {
   "cell_type": "markdown",
   "metadata": {},
   "source": [
    "As you can see there are no null values in our data\n",
    "but in our data we can '?' instead of null values\n",
    "now let us change these '?' values to null values"
   ]
  },
  {
   "cell_type": "code",
   "execution_count": 267,
   "metadata": {},
   "outputs": [
    {
     "data": {
      "text/plain": [
       "age                  0\n",
       "workclass         1836\n",
       "fnlwgt               0\n",
       "education            0\n",
       "education.num        0\n",
       "marital.status       0\n",
       "occupation        1843\n",
       "relationship         0\n",
       "race                 0\n",
       "sex                  0\n",
       "capital.gain         0\n",
       "capital.loss         0\n",
       "hours.per.week       0\n",
       "native.country     583\n",
       "income               0\n",
       "dtype: int64"
      ]
     },
     "execution_count": 267,
     "metadata": {},
     "output_type": "execute_result"
    }
   ],
   "source": [
    "#CONVERTING ALL '?' TO NULL VALUES\n",
    "\n",
    "df[df=='?']=np.nan\n",
    "\n",
    "#FINDING THE NO OF NULL VALUES IN EACH COLUMN\n",
    "\n",
    "df.isnull().sum(axis=0)\n"
   ]
  },
  {
   "cell_type": "markdown",
   "metadata": {},
   "source": [
    "now let us replace all the null values with the mode of their columns"
   ]
  },
  {
   "cell_type": "code",
   "execution_count": 268,
   "metadata": {},
   "outputs": [
    {
     "data": {
      "text/plain": [
       "age               0\n",
       "workclass         0\n",
       "fnlwgt            0\n",
       "education         0\n",
       "education.num     0\n",
       "marital.status    0\n",
       "occupation        0\n",
       "relationship      0\n",
       "race              0\n",
       "sex               0\n",
       "capital.gain      0\n",
       "capital.loss      0\n",
       "hours.per.week    0\n",
       "native.country    0\n",
       "income            0\n",
       "dtype: int64"
      ]
     },
     "execution_count": 268,
     "metadata": {},
     "output_type": "execute_result"
    }
   ],
   "source": [
    "#LOOPING THROUGH EACH OF THE COLUMNS HAVING NULL VALUES\n",
    "\n",
    "for column in['workclass','occupation','native.country']:\n",
    "    \n",
    "    #REPLACING THE NULL VALUE WITH THE MODE OF THAT COLUMN\n",
    "    \n",
    "    df[column].fillna(df[column].mode()[0],inplace=True)\n",
    "df.isnull().sum(axis=0)"
   ]
  },
  {
   "cell_type": "markdown",
   "metadata": {},
   "source": [
    "now let us convert our output varible values '<=50K' and '>50K' to 0 and 1 respectively"
   ]
  },
  {
   "cell_type": "code",
   "execution_count": 269,
   "metadata": {},
   "outputs": [],
   "source": [
    "#CONVERTIG INCOME VALUES TO 0 AND 1 \n",
    "\n",
    "change={\"income\":{'<=50K':0,'>50K':1}}\n",
    "df=df.replace(change)"
   ]
  },
  {
   "cell_type": "code",
   "execution_count": 270,
   "metadata": {},
   "outputs": [],
   "source": [
    "#DROPPING FNLWGT COLUMN (ONLY SINGLE COLUMN) TO DECREASE THE TIME TO TRAIN DECISION TREE\n",
    "df=df.drop(['fnlwgt'],axis=1)"
   ]
  },
  {
   "cell_type": "markdown",
   "metadata": {},
   "source": [
    "let us now split the data intlo test train and validation sets"
   ]
  },
  {
   "cell_type": "code",
   "execution_count": 271,
   "metadata": {},
   "outputs": [
    {
     "name": "stdout",
     "output_type": "stream",
     "text": [
      "(32561, 14) (26049, 14) (6512, 14) (20839, 14) (5210, 14)\n"
     ]
    }
   ],
   "source": [
    "#TEST-TRAIN SPLIT\n",
    "\n",
    "train=df.sample(frac=0.8)\n",
    "test=df.drop(train.index)\n",
    "\n",
    "#FURTHER SPLITTING TRAIN INTO TRAINFINAL AND VALID SETS\n",
    "\n",
    "trainfinal=train.sample(frac=0.8)\n",
    "valid=train.drop(trainfinal.index)\n",
    "print(df.shape,train.shape,test.shape,trainfinal.shape,valid.shape)"
   ]
  },
  {
   "cell_type": "markdown",
   "metadata": {},
   "source": [
    "now let us define the function to return feature type of each column"
   ]
  },
  {
   "cell_type": "code",
   "execution_count": 272,
   "metadata": {},
   "outputs": [],
   "source": [
    "#DEFINING FUNCTION TO FIND THE TYPE OF FEATURES IN OUR DATA\n",
    "\n",
    "def typeof_column(df):\n",
    "    \n",
    "    #TO STORE THE FEATURE TYPE OF EACH FEATURE\n",
    "    \n",
    "    column_types=[]\n",
    "    \n",
    "    #IF THE NO OF UNIQUE VALUES IN THE FEATURE<=THRESHOLD THEN IT IS A CATEGORICAL FEATURE O/W IT IS CONTINUOUS\n",
    "    \n",
    "    threshold=14\n",
    "    \n",
    "    #LOOPING THROUGH ALL THE COLUMNS\n",
    "    \n",
    "    for column in df.columns:\n",
    "        if column!='label':\n",
    "            \n",
    "            #FINDING UNIQUE VALUES IN EACH COLUMNS\n",
    "            \n",
    "            unique_values=df[column].unique()\n",
    "            first_value=unique_values[0]\n",
    "            \n",
    "            #ASSIGNING FEATURES TYPE INTO CONTINUOUS OR CATEGORICAL BASED ON THRESHOLD CONDITION\n",
    "            \n",
    "            if(len(unique_values)<=threshold)or(isinstance(first_value,str)):\n",
    "                column_types.append('categorical')\n",
    "            else:\n",
    "                column_types.append('continuous')\n",
    "    return column_types"
   ]
  },
  {
   "cell_type": "markdown",
   "metadata": {},
   "source": [
    "now let us define a function to check the purity of data(if all the income values in that data have same values then the data is pure otherwise not pure)"
   ]
  },
  {
   "cell_type": "code",
   "execution_count": 273,
   "metadata": {},
   "outputs": [],
   "source": [
    "#DEFINING PURITY FUNCTION (TO CHECK IF THE PASSED DATA IS PURE OR NOT)\n",
    "\n",
    "def purity(df):\n",
    "    \n",
    "    #SEPERATING THE LAST COLUMN VALUES(INCOME COLUMN)\n",
    "    \n",
    "    label=df[:,-1]\n",
    "    \n",
    "    #COUNTING THE NO OF UNIQUE INCOME VALUES\n",
    "    \n",
    "    unique_values=np.unique(label)\n",
    "    \n",
    "    #IF THE UNIQUE VALUES ARE 1 THEN THE DATA IS PURE O/W NOT PURE\n",
    "    \n",
    "    if(len(unique_values)==1):\n",
    "        return True\n",
    "    else:\n",
    "        return False\n"
   ]
  },
  {
   "cell_type": "markdown",
   "metadata": {},
   "source": [
    "now let us define a function that gives the manjority of the no of income values in the passed data"
   ]
  },
  {
   "cell_type": "code",
   "execution_count": 274,
   "metadata": {},
   "outputs": [],
   "source": [
    "#DEFINING CLASSIFICATION FUNCTION(TO GET THE MAJORITY INCOME VALUE IN THE PASSED DATA)\n",
    "\n",
    "def classification(df):\n",
    "    \n",
    "    #SEPERATING THE INCOME VALUES\n",
    "    \n",
    "    label=df[:,-1]\n",
    "    \n",
    "    #GETTING BNO OF UNIQUE VALUES AND ALSO THE COUNT FOR EACH OF THE UNIQUE VALUES\n",
    "    \n",
    "    unique_values,counts_unique_values=np.unique(label,return_counts=True)\n",
    "    \n",
    "    #FINDING THE UNIQUE VALUE THAT HAS LARGE COUNT(MAJORITY)\n",
    "    \n",
    "    index=counts_unique_values.argmax()\n",
    "    finalclass=unique_values[index]\n",
    "    return finalclass\n"
   ]
  },
  {
   "cell_type": "markdown",
   "metadata": {},
   "source": [
    "now let us define a function to get all the possibile values of split for each column of data"
   ]
  },
  {
   "cell_type": "code",
   "execution_count": 275,
   "metadata": {},
   "outputs": [],
   "source": [
    "# DEFINING POTENTIAL SPILTS FUNCTION(RETURNS ALL THE POSSIBLE SPLIT VALUES OF EACH COLUMN)\n",
    "\n",
    "def potential_splits(df):\n",
    "    potential_splits={}\n",
    "    \n",
    "    #GETTING NO OF COLUMNS VALUE\n",
    "    \n",
    "    _,columns=df.shape\n",
    "    \n",
    "    #LOOPING THROUGH EACH OF THE COLUMN\n",
    "    \n",
    "    for col_no in range(columns-1):\n",
    "        \n",
    "        #GETTING ALL THE VALUES OF THAT COLUMN\n",
    "        \n",
    "        values=df[:,col_no]\n",
    "        \n",
    "        #GETTING ALL THE UNIQUE VALUES OF THAT COLUMN\n",
    "        \n",
    "        unique_values=np.unique(values)\n",
    "        \n",
    "        #FINDING THE FEATURE TYPE OF THE COLUMN\n",
    "        \n",
    "        column_type=feature_types[col_no]\n",
    "        \n",
    "        # IF THE FEATURE TYPE IS CONTINUOUS WE TAKE ALL THE ADJACENT PAIR OF UNIQUE VALUES AND FIND THEIR AVG \n",
    "        #NEXT WE ADD THIS AVG AS A POSSIBLE SPLIT TO THAT COLUMN\n",
    "        \n",
    "        if column_type=='continuous':\n",
    "            potential_splits[col_no]=[]\n",
    "            for i in range(len(unique_values)):\n",
    "                if i!=0:\n",
    "                    current_value=unique_values[i]\n",
    "                    last_value=unique_values[i-1]\n",
    "                    \n",
    "                    #GETTING THE AVG OF CURRENT AND THE PREVIOUS UNIQUE VALUE\n",
    "                    \n",
    "                    potential_split=(current_value+last_value)/2\n",
    "                    \n",
    "                    #ADDING THE AVG VALUE AS A POSSIBLE SPLIT\n",
    "                    \n",
    "                    potential_splits[col_no].append(potential_split)\n",
    "        \n",
    "        # IF THE FEATURE IS CATEGORICAL AND NO OF UNIQUE VALUES OF THAT FEATURE IS >1\n",
    "        #WE SIMPLY ASSIGN EACH OF THE UNIQUE VALUES AS A POSSIBLE SPLIT TO THAT COLUMN\n",
    "        \n",
    "        elif len(unique_values)>1:\n",
    "            potential_splits[col_no]=unique_values\n",
    "    return potential_splits\n"
   ]
  },
  {
   "cell_type": "markdown",
   "metadata": {},
   "source": [
    "now let us define a function that splits the data based on the split_column and split_value"
   ]
  },
  {
   "cell_type": "code",
   "execution_count": 276,
   "metadata": {},
   "outputs": [],
   "source": [
    "#DEFINING SPLIT DATA FUNCTION(TO SPLIT THE DATA BASED ON THE COLUMN NUMBER AND THE VALUE OF THAT COLUMN PASSED)\n",
    "def split_data(df,split_column,split_value):\n",
    "    \n",
    "    #GETTING THE VALUES OF THE PASSED COLUMN\n",
    "    \n",
    "    split_column_values=df[:,split_column]\n",
    "    \n",
    "    #GETTING THE FEATURE TYPE OF THE PASSED COLUMN\n",
    "    \n",
    "    feature_type=feature_types[split_column]\n",
    "    \n",
    "    #BASED ON THE FEATURE TYPE ,SEPERATELY SPLITTING DATA BASED ON THE SPLIT_VALUE PASSED\n",
    "    \n",
    "    if feature_type=='continuous':\n",
    "        data_below=df[split_column_values<=split_value]\n",
    "        data_above=df[split_column_values>split_value]\n",
    "    else:\n",
    "        data_below=df[split_column_values==split_value]\n",
    "        data_above=df[split_column_values!=split_value]\n",
    "    return data_below , data_above"
   ]
  },
  {
   "cell_type": "markdown",
   "metadata": {},
   "source": [
    "now lt us define a function to get the entropy"
   ]
  },
  {
   "cell_type": "code",
   "execution_count": 277,
   "metadata": {},
   "outputs": [],
   "source": [
    "#DEFINING ENTROPY FUNCTION\n",
    "\n",
    "def entropy(df):\n",
    "    \n",
    "    #SEPERATING THE LAST COLUMN(INCOME) VALUES\n",
    "    \n",
    "    label=df[:,-1]\n",
    "    \n",
    "    #GETTING THE COUNTS FOR EACH OF THE UNIQUE VALUES\n",
    "    \n",
    "    _,counts=np.unique(label,return_counts=True)\n",
    "    \n",
    "    #CALCULATING ENTROPY\n",
    "    \n",
    "    probabilities=counts/counts.sum()\n",
    "    entropy=sum(probabilities*-np.log2(probabilities))\n",
    "    return entropy"
   ]
  },
  {
   "cell_type": "markdown",
   "metadata": {},
   "source": [
    "let us define a function to calculate the total entropy"
   ]
  },
  {
   "cell_type": "code",
   "execution_count": 278,
   "metadata": {},
   "outputs": [],
   "source": [
    "#DEFINING TOTAL ENTROPY FUNCTION\n",
    "\n",
    "def total_entropy(data_below,data_above):\n",
    "    n=len(data_below)+len(data_above)\n",
    "    \n",
    "    #ADDING THE TOTAL ENTROPY CAPUTRED BY DATA_BELOW AND DATA_ABOVE\n",
    "    \n",
    "    te=((len(data_below)/n)*entropy(data_below)+(len(data_above)/n)*entropy(data_above))\n",
    "    return te"
   ]
  },
  {
   "cell_type": "markdown",
   "metadata": {},
   "source": [
    "now let us define a function to find the best split among all the possible splits"
   ]
  },
  {
   "cell_type": "code",
   "execution_count": 279,
   "metadata": {},
   "outputs": [],
   "source": [
    "#DEFINING BEST SPLIT FUNCTION TO FIND THE BEST SPLIT\n",
    "\n",
    "def best_split(df,potential_splits):\n",
    "    overall_entropy=10000\n",
    "    \n",
    "    #LOOPING THROUGH ALL COLUMNS \n",
    "    \n",
    "    for col_index in potential_splits:\n",
    "        \n",
    "        #LOOPING THROUGH ALL POSSIBLE SPLITS OF THAT COLUMN\n",
    "        \n",
    "        for value in potential_splits[col_index]:\n",
    "            \n",
    "            #SPLITTING THE DATA BASED ON THE SPLIT VALUE\n",
    "            \n",
    "            data_below,data_above=split_data(df,col_index,value)\n",
    "            \n",
    "            #CALCULATING TOTAL ENTROPY OF THE SPLIT\n",
    "            \n",
    "            current_entropy=total_entropy(data_below,data_above)\n",
    "            \n",
    "            #AS WE KNOW INFORMATION GAIN IS INVERSILY PROPORTIONAL TO  THE TOTAL_ENTROPY CAPTURED BY THE SPLIT\n",
    "            #FINDING THE SPLIT THAT HAS MIN OVERALL_ENTROPY AMONG ALL SPLITS\n",
    "            \n",
    "            if current_entropy<=overall_entropy:\n",
    "                overall_entropy=current_entropy\n",
    "                best_split_column=col_index\n",
    "                best_split_value=value\n",
    "    return best_split_column,best_split_value"
   ]
  },
  {
   "cell_type": "markdown",
   "metadata": {},
   "source": [
    "now let us define our main function decision tree to build the tree"
   ]
  },
  {
   "cell_type": "code",
   "execution_count": 280,
   "metadata": {},
   "outputs": [],
   "source": [
    "#DEFINING DT  FUNCTION TO BUILD THE DECISION TREE\n",
    "\n",
    "def dt(df,counter=0,min_samples=2,max_depth=5):\n",
    "    \n",
    "    if counter==0:\n",
    "        global feature_types,column_headers\n",
    "        \n",
    "        #GETTING ALL COLUMN NAMES\n",
    "        \n",
    "        column_headers=df.columns\n",
    "        \n",
    "        #GETTING ALL COLUMN TYPES\n",
    "        \n",
    "        feature_types=typeof_column(df)\n",
    "        data=df.values\n",
    "    else:\n",
    "        data=df\n",
    "    \n",
    "    #BASE CONDITION(RETURN IF MAX DEPTH OR MIN SAMPLES OR A COMPLETELY PURE NODE IS REACHED)\n",
    "    \n",
    "    if (len(data)<min_samples)or(counter==max_depth)or(purity(data)):\n",
    "        \n",
    "        #GETTING THE MAJORITY CLASS OF THAT NODE(DATA)\n",
    "        \n",
    "        final_class=classification(data)\n",
    "        return final_class\n",
    "    else:\n",
    "        counter+=1\n",
    "        \n",
    "        #GETTING ALL THE POSSIBLE SPLITS\n",
    "        \n",
    "        p_splits=potential_splits(data)\n",
    "        \n",
    "        #FINDING THE BEST SPLIT AMONG ALL THE POSSIBLE SPLITS\n",
    "        \n",
    "        split_column,split_value=best_split(data,p_splits)\n",
    "        \n",
    "        #DIVIDING THE DATA BASED ON THE BEST SPLIT\n",
    "        \n",
    "        data_below,data_above=split_data(data,split_column,split_value)\n",
    "        \n",
    "        #GETTING THE FEATURE TYPE AND THE FEATURE NAME OF THE BEST SPLIT COLUMN\n",
    "        \n",
    "        feature_name=column_headers[split_column]\n",
    "        feature_type=feature_types[split_column]\n",
    "        \n",
    "        #BULIDING A TREE USING DICTIONARY\n",
    "        \n",
    "        if feature_type=='continuous':\n",
    "            question=\"{} <= {}\".format(feature_name,split_value)\n",
    "        else:\n",
    "            question=\"{} = {}\".format(feature_name,split_value)\n",
    "        \n",
    "        #RECURSIVE PART\n",
    "        \n",
    "        sub_tree={question:[]}\n",
    "        yes=dt(data_below,counter,min_samples,max_depth)\n",
    "        no=dt(data_above,counter,min_samples,max_depth)\n",
    "        if yes==no:\n",
    "            sub_tree=yes\n",
    "        else:\n",
    "            sub_tree[question].append(yes)\n",
    "            sub_tree[question].append(no)\n",
    "        return sub_tree\n",
    "    \n",
    "    "
   ]
  },
  {
   "cell_type": "markdown",
   "metadata": {},
   "source": [
    "now let us train the decision tree using trainfinal data and max_depth=3"
   ]
  },
  {
   "cell_type": "code",
   "execution_count": 281,
   "metadata": {},
   "outputs": [],
   "source": [
    "#TRAINING THE DECISION TREE USING TRAINFINAL DATA AND MAX DEPTH=3\n",
    "tree=dt(trainfinal,max_depth=3)"
   ]
  },
  {
   "cell_type": "code",
   "execution_count": 282,
   "metadata": {},
   "outputs": [
    {
     "name": "stdout",
     "output_type": "stream",
     "text": [
      "{'marital.status = Married-civ-spouse': [{'capital.gain <= 5095.5': [{'education.num <= 12.5': [0, 1]}, 1]}, {'capital.gain <= 7073.5': [0, 1]}]}\n"
     ]
    }
   ],
   "source": [
    "print(tree)"
   ]
  },
  {
   "cell_type": "markdown",
   "metadata": {},
   "source": [
    "now let us define a function that gives us the income prediction when given a test point and decision tree"
   ]
  },
  {
   "cell_type": "code",
   "execution_count": 283,
   "metadata": {},
   "outputs": [],
   "source": [
    "#DEFINING TEST ROW FUNCTION TO PREDICT INCOME FROM THE TEST POINT AND DECISION TREE\n",
    "\n",
    "def test_row(row,tree):\n",
    "    \n",
    "    #GETTING THE OUR DECISION NODE DETAILS:FEATURE_NAME,FEATURE_VALUE\n",
    "    \n",
    "    question=list(tree.keys())[0]\n",
    "    feature_name,comparision_operator,value=question.split()\n",
    "    \n",
    "    #GETTING THE INDEX OF THE FEATURE_NAME\n",
    "    \n",
    "    for i in range(len(column_headers)):\n",
    "        if column_headers[i]==feature_name:\n",
    "            index=i\n",
    "            \n",
    "    #CHECKING IF THE FEATURE IS CONTINUOUS OR NOT\n",
    "    \n",
    "    if feature_types[index]=='continuous':\n",
    "        \n",
    "        #CHECKING THE NODE CONDITION WITH OUR TEST DATA POINT AND ASSIGNING SUBTREE BASED ON CONDITION TO answer\n",
    "        \n",
    "       if float(row[feature_name])<=float(value):\n",
    "          answer=tree[question][0]\n",
    "       else:\n",
    "          answer=tree[question][1]\n",
    "        \n",
    "       #BASE CONDITION\n",
    "    \n",
    "       if not isinstance(answer,dict):\n",
    "          return answer\n",
    "       \n",
    "       #RECURSIVE PART\n",
    "        \n",
    "       else:\n",
    "          residual_tree=answer\n",
    "          return test_row(row,residual_tree)\n",
    "    else:\n",
    "        if str(row[feature_name])==value:\n",
    "            answer=tree[question][0]\n",
    "        else:\n",
    "            answer=tree[question][1]\n",
    "        if not isinstance(answer,dict):\n",
    "            return answer\n",
    "        else:\n",
    "            residual_tree=answer\n",
    "            return test_row(row,residual_tree)\n",
    "            \n",
    "    "
   ]
  },
  {
   "cell_type": "markdown",
   "metadata": {},
   "source": [
    "now let us define accuracy function to calculate accuracy"
   ]
  },
  {
   "cell_type": "code",
   "execution_count": 284,
   "metadata": {},
   "outputs": [],
   "source": [
    "#DEFINING ACCURACY FUNCTION TO CALCULATE ACCURACY\n",
    "\n",
    "def accuracy(df,tree):\n",
    "    \n",
    "    #GETTING PREDICTIONS OF TEST DATA\n",
    "    \n",
    "    df['prediction']=df.apply(test_row,axis=1,args=(tree,))\n",
    "    \n",
    "    #FINDING WHETHER THE PREDICTIONS ARE CORRECT OR NOT\n",
    "    \n",
    "    df['correct']=(df['prediction']==df['income'])\n",
    "    \n",
    "    #GETTING THE ACCURACY\n",
    "    \n",
    "    accuracy=df['correct'].mean()\n",
    "    a=float(accuracy)\n",
    "    return a\n",
    "        \n",
    "    "
   ]
  },
  {
   "cell_type": "code",
   "execution_count": 285,
   "metadata": {},
   "outputs": [
    {
     "name": "stdout",
     "output_type": "stream",
     "text": [
      "ACCURACY OF OUR BULIT DECISION TREE WITH DEPTH=3 ON VALIDATION SET IS: 84.74088291746641 %\n"
     ]
    }
   ],
   "source": [
    "print('ACCURACY OF OUR BULIT DECISION TREE WITH DEPTH=3 ON VALIDATION SET IS:',accuracy(valid,tree)*100,'%')"
   ]
  },
  {
   "cell_type": "markdown",
   "metadata": {},
   "source": [
    "# Q2(b):Optimizing tree hyperparameters using cross validation"
   ]
  },
  {
   "cell_type": "markdown",
   "metadata": {},
   "source": [
    "let us first divide the train data into 4 euqal sets for 4 fold cross validation"
   ]
  },
  {
   "cell_type": "code",
   "execution_count": 286,
   "metadata": {},
   "outputs": [
    {
     "name": "stdout",
     "output_type": "stream",
     "text": [
      "(26049, 14) (6512, 14) (6512, 14) (6512, 14) (6513, 14)\n"
     ]
    }
   ],
   "source": [
    "#SPLITTING TRAIN DATA INTO 2 EQUAL PARTS\n",
    "\n",
    "part1=train.sample(frac=0.5)\n",
    "part2=train.drop(part1.index)\n",
    "\n",
    "#FURTHER SPLITTING THE SPLIT DATA INTO 2 PARTS SO THAT WE GET TOTAL 4 PARTS\n",
    "\n",
    "part11=part1.sample(frac=0.5)\n",
    "part12=part1.drop(part11.index)\n",
    "part21=part2.sample(frac=0.5)\n",
    "part22=part2.drop(part21.index)\n",
    "\n",
    "#CONCATINATING 3 DIFFERT PARTS EACH TIME  TO CREATE 4 DIFF TRAINING DATA FOR 4 FOLD CROSS VALIDATION AND WE USE THE \n",
    "#REMAINING PART FOR VALIDATING\n",
    "\n",
    "train123=pd.concat([part11,part12,part21])\n",
    "train124=pd.concat([part11,part12,part22])\n",
    "train134=pd.concat([part11,part21,part22])\n",
    "train234=pd.concat([part12,part21,part22])\n",
    "\n",
    "#PRINTING THE SHAPES OF THE TRAIN DATA AND THE 4 PARTS THAT ARE DIVIDED FROM TRAIN DATA\n",
    "print(train.shape,part11.shape,part12.shape,part21.shape,part22.shape)"
   ]
  },
  {
   "cell_type": "markdown",
   "metadata": {},
   "source": [
    "now let us define a function to implement cross validation"
   ]
  },
  {
   "cell_type": "code",
   "execution_count": 287,
   "metadata": {},
   "outputs": [],
   "source": [
    "#DEFINING CROSS VALIDATION FUNCTION\n",
    "\n",
    "def cross_val(i,j):\n",
    "    \n",
    "    \n",
    "    #BUILDING TREE1 FROM TRAIN123 AND GETTING ACCURACY FOR PART22 ON TREE1\n",
    "    \n",
    "    tree1=dt(train123,max_depth=i,min_samples=j)\n",
    "    acc1=accuracy(part22,tree1)\n",
    "    \n",
    "    #BUILDING TREE2 FROM TRAIN124 AND GETTING ACCURACY FOR PART21 ON TREE2\n",
    "    \n",
    "    tree2=dt(train124,max_depth=i,min_samples=j)\n",
    "    acc2=accuracy(part21,tree2)\n",
    "    \n",
    "    #BUILDING TREE3 FROM TRAIN134 AND GETTING ACCURACY FOR  PART12 ON TREE3\n",
    "    \n",
    "    tree3=dt(train134,max_depth=i,min_samples=j)\n",
    "    acc3=accuracy(part12,tree3)\n",
    "    \n",
    "    #BUILDING TREE4 FROM TRAIN234 AND GETTING ACCURACY FOR PART11 IN TREE4\n",
    "    \n",
    "    tree4=dt(train234,max_depth=i,min_samples=j)\n",
    "    acc4=(accuracy(part11,tree4))\n",
    "    \n",
    "    #CALCULATING THE AVERAGE ACCURACY\n",
    "    \n",
    "    avgacc=(acc1+acc2+acc3+acc4)/4\n",
    "    print('avgacc for max depth',i,'and min_samples',j,'is',avgacc*100,'%')\n",
    "    return avgacc\n",
    "    "
   ]
  },
  {
   "cell_type": "markdown",
   "metadata": {},
   "source": [
    "now let us do hyperparameter optimization using 4 fold cross validation"
   ]
  },
  {
   "cell_type": "code",
   "execution_count": 289,
   "metadata": {},
   "outputs": [
    {
     "name": "stdout",
     "output_type": "stream",
     "text": [
      "avgacc for max depth 3 and min_samples 200 is 84.41012336034791 %\n",
      "avgacc for max depth 5 and min_samples 200 is 84.924536440255 %\n",
      "avgacc for max depth 7 and min_samples 200 is 85.34298465061939 %\n",
      "avgacc for max depth 3 and min_samples 500 is 84.41012336034791 %\n",
      "avgacc for max depth 5 and min_samples 500 is 84.924536440255 %\n",
      "avgacc for max depth 7 and min_samples 500 is 85.17023432816846 %\n",
      "avgacc for max depth 3 and min_samples 1000 is 84.41012336034791 %\n",
      "avgacc for max depth 5 and min_samples 1000 is 84.92069737391593 %\n",
      "avgacc for max depth 7 and min_samples 1000 is 85.14720051958076 %\n",
      "THE OPTIMAL PARAMETERS FOUND IN 4 FOLD CROSS VALIDATION ARE: MAX_DEPTH= 7 MIN_SAMPLES= 200\n",
      "THESE OPTIMAL HYPERPARAMETERS GIVE AN ACCURACY OF: 85.34298465061939 %\n"
     ]
    }
   ],
   "source": [
    "#HYPERPARAMETERS(MAX_DEPTH,MIN_SAMPLES) OPTIMIZATION\n",
    "\n",
    "max_accuracy=0\n",
    "\n",
    "#LOOPING THROUGH VARIOUS MAX_DEPTH VALUES\n",
    "\n",
    "for j in[200,500,1000]:\n",
    "    \n",
    "    #LOOPING THROUGH VARIOUS MIN_SAMPLE VALUES\n",
    "    \n",
    "    for i in[3,5,7]:\n",
    "        current_acc=cross_val(i,j)\n",
    "        \n",
    "        #FINDING THE PARAMETERS THAT GIVE MAX_ACCURACY\n",
    "        \n",
    "        if current_acc>=max_accuracy:\n",
    "            max_accuracy=current_acc\n",
    "            optimal_max_depth=i\n",
    "            optimal_min_samples=j\n",
    "print('THE OPTIMAL PARAMETERS FOUND IN 4 FOLD CROSS VALIDATION ARE: MAX_DEPTH=',optimal_max_depth,'MIN_SAMPLES=',optimal_min_samples)\n",
    "print('THESE OPTIMAL HYPERPARAMETERS GIVE AN ACCURACY OF:',max_accuracy*100,'%')"
   ]
  }
 ],
 "metadata": {
  "kernelspec": {
   "display_name": "Python 3",
   "language": "python",
   "name": "python3"
  },
  "language_info": {
   "codemirror_mode": {
    "name": "ipython",
    "version": 3
   },
   "file_extension": ".py",
   "mimetype": "text/x-python",
   "name": "python",
   "nbconvert_exporter": "python",
   "pygments_lexer": "ipython3",
   "version": "3.8.5"
  }
 },
 "nbformat": 4,
 "nbformat_minor": 4
}
