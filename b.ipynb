{
 "cells": [
  {
   "cell_type": "markdown",
   "metadata": {},
   "source": [
    "# Assignment 3"
   ]
  },
  {
   "cell_type": "code",
   "execution_count": 1,
   "metadata": {},
   "outputs": [],
   "source": [
    "#importing required modules(all modules allowed by sir)\n",
    "\n",
    "import pandas as pd\n",
    "import numpy as np\n",
    "import random\n",
    "import matplotlib.pyplot as plt\n",
    "import warnings\n",
    "warnings.filterwarnings('ignore')"
   ]
  },
  {
   "cell_type": "code",
   "execution_count": 2,
   "metadata": {},
   "outputs": [],
   "source": [
    "#reading the data(provided in the assignment)\n",
    "\n",
    "data=pd.read_csv(r'BankNote_Authentication.csv')"
   ]
  },
  {
   "cell_type": "markdown",
   "metadata": {},
   "source": [
    "## Q1.a  :  perceptron algorithm "
   ]
  },
  {
   "cell_type": "code",
   "execution_count": 3,
   "metadata": {},
   "outputs": [],
   "source": [
    "#function for perceptron algorithm\n",
    "\n",
    "def stochasticsubsgd(x,y,epoches):\n",
    "    \n",
    "    #adding the bias as a feature to input vector 'x' with value=1\n",
    "    \n",
    "    x['bias']=1\n",
    "    \n",
    "    #random initialization of weight vector\n",
    "    \n",
    "    weights = np.random.randn(1,x.shape[1]) \n",
    "    \n",
    "    #storing the indexes in a list\n",
    "    \n",
    "    indexes=[j for j in range(len(x))]\n",
    "    \n",
    "    #repeating until the no of epoches completed or until convergence \n",
    "    \n",
    "    crctly_classified=0\n",
    "    \n",
    "    for i in range(epoches*len(x)):\n",
    "        \n",
    "        #initializing learning rate=1\n",
    "        \n",
    "        lrate=1\n",
    "        \n",
    "        #choosing a random index from the list of indexes\n",
    "        \n",
    "        random_num = random.choice(indexes)\n",
    "        \n",
    "        #getting the x and y values corresponding to that random index (getting a random point )\n",
    "        \n",
    "        point_x=x.iloc[random_num,:]\n",
    "        point_y=y.iloc[random_num]\n",
    "        \n",
    "        #checking condition whether present model wrongly classifies the current data point\n",
    "        \n",
    "        if point_y*(np.dot(weights,point_x))<0:\n",
    "            \n",
    "            #updating the weight vector if the point is wrongly classified\n",
    "            \n",
    "            weights=weights+lrate*np.array(point_y*point_x)\n",
    "            \n",
    "            #if the weights are updated (it becomes a new model) so making crctly_classified as 0 \n",
    "            \n",
    "            crctly_classified=0\n",
    "            \n",
    "        else :\n",
    "            \n",
    "            #if the point is correctly classified then incrementing crctly_classified\n",
    "            \n",
    "            crctly_classified+=1\n",
    "         \n",
    "        #if the correctly classified points by a model == no of points (convergence condition)\n",
    "        \n",
    "        if crctly_classified==len(x):\n",
    "            \n",
    "            break\n",
    "            \n",
    "    #returning the weight vector\n",
    "    \n",
    "    return weights\n",
    "    "
   ]
  },
  {
   "cell_type": "markdown",
   "metadata": {},
   "source": [
    "# Q1.b  : functions to make predictions using the  perceptron algorithm"
   ]
  },
  {
   "cell_type": "code",
   "execution_count": 4,
   "metadata": {},
   "outputs": [],
   "source": [
    "#function to make prections when given weight vector and input vector\n",
    "\n",
    "def prediction(x,weights):\n",
    "    \n",
    "    #adding the bias as a feature to input with value=1\n",
    "    \n",
    "    x['bias']=1\n",
    "    \n",
    "    #storing the predicted values in y_hat\n",
    "    \n",
    "    y_hat=np.dot(x,weights.transpose())\n",
    "    \n",
    "    #looping through the ouput vector\n",
    "    \n",
    "    for i in range(len(y_hat)):\n",
    "        \n",
    "        #making the output value as -1 if that point is on the negative side of the hyperplane\n",
    "        \n",
    "        if y_hat[i]<=0:\n",
    "            y_hat[i]=-1\n",
    "            \n",
    "        #making the output value as +1 if that point is on the positive side of the hyperplane\n",
    "        \n",
    "        else:\n",
    "            y_hat[i]=1\n",
    "    \n",
    "    #returning the predicted values\n",
    "    \n",
    "    return y_hat"
   ]
  },
  {
   "cell_type": "code",
   "execution_count": 5,
   "metadata": {},
   "outputs": [],
   "source": [
    "#function to find the error\n",
    "\n",
    "def error(y,y_hat):\n",
    "    \n",
    "    #converting into numpy array\n",
    "    \n",
    "    y=np.array(y)\n",
    "    \n",
    "    #varible to store the no of wrongly classified points\n",
    "    \n",
    "    count=0\n",
    "    \n",
    "    #looping through the output vector\n",
    "    \n",
    "    for i in range(len(y)):\n",
    "        \n",
    "        #if the output and predicted output are not equal then increamenting count by 1\n",
    "        \n",
    "        if y[i]!=y_hat[i]:\n",
    "            count+=1\n",
    "            \n",
    "    #returning the ratio of wrongly classified points to the total no of points\n",
    "    \n",
    "    return count/len(y)"
   ]
  },
  {
   "cell_type": "markdown",
   "metadata": {},
   "source": [
    "### checking for  null  values"
   ]
  },
  {
   "cell_type": "code",
   "execution_count": 6,
   "metadata": {},
   "outputs": [
    {
     "data": {
      "text/plain": [
       "variance    0\n",
       "skewness    0\n",
       "curtosis    0\n",
       "entropy     0\n",
       "class       0\n",
       "dtype: int64"
      ]
     },
     "execution_count": 6,
     "metadata": {},
     "output_type": "execute_result"
    }
   ],
   "source": [
    "#printing the no of null values in each of the column\n",
    "\n",
    "data.isnull().sum()"
   ]
  },
  {
   "cell_type": "markdown",
   "metadata": {},
   "source": [
    "as you can see there are no null values in our data"
   ]
  },
  {
   "cell_type": "markdown",
   "metadata": {},
   "source": [
    "### Finding anomalous data(using box plot)"
   ]
  },
  {
   "cell_type": "code",
   "execution_count": 7,
   "metadata": {},
   "outputs": [
    {
     "data": {
      "image/png": "[encoded data removed]",
      "text/plain": [
       "<Figure size 432x288 with 1 Axes>"
      ]
     },
     "metadata": {
      "needs_background": "light"
     },
     "output_type": "display_data"
    }
   ],
   "source": [
    "#boxplot of our data featres to find the anamolies or outliers\n",
    "b=(plt.boxplot(data))"
   ]
  },
  {
   "cell_type": "markdown",
   "metadata": {},
   "source": [
    "all the values of columns that are black in color  are anamolus values"
   ]
  },
  {
   "cell_type": "code",
   "execution_count": 8,
   "metadata": {},
   "outputs": [],
   "source": [
    "#removing the anomalies or outliers data\n",
    "\n",
    "data=data[data[data.columns[2]]<=9]\n",
    "data=data[data[data.columns[3]]>=-5.6]"
   ]
  },
  {
   "cell_type": "code",
   "execution_count": 9,
   "metadata": {},
   "outputs": [
    {
     "data": {
      "image/png": "[encoded data removed]",
      "text/plain": [
       "<Figure size 432x288 with 1 Axes>"
      ]
     },
     "metadata": {
      "needs_background": "light"
     },
     "output_type": "display_data"
    }
   ],
   "source": [
    "#boxplot of our data featres to show that anamolies are removed\n",
    "\n",
    "b=(plt.boxplot(data))"
   ]
  },
  {
   "cell_type": "markdown",
   "metadata": {},
   "source": [
    "as you can see there are no more anamolous values"
   ]
  },
  {
   "cell_type": "markdown",
   "metadata": {},
   "source": [
    "### changing output class representation from 0 to -1"
   ]
  },
  {
   "cell_type": "code",
   "execution_count": 10,
   "metadata": {},
   "outputs": [],
   "source": [
    "#perceptron algo given by sir in slide 7 is for classification of data points to classes either  +1 or -1\n",
    "#but given data has classes +1 and 0\n",
    "#so we are just changing the representation from 0 to -1\n",
    "\n",
    "\n",
    "#looping through each data point\n",
    "\n",
    "for i in range(len(data)):\n",
    "    \n",
    "    #if the output is of class 0\n",
    "    \n",
    "    if data.iloc[i,-1]==0:\n",
    "        \n",
    "        #changing it to class -1\n",
    "        \n",
    "        data.iloc[i,-1]=-1"
   ]
  },
  {
   "cell_type": "code",
   "execution_count": 11,
   "metadata": {},
   "outputs": [
    {
     "name": "stdout",
     "output_type": "stream",
     "text": [
      "-1    734\n",
      " 1    488\n",
      "Name: class, dtype: int64\n"
     ]
    }
   ],
   "source": [
    "#printing the no of data points belonging to each output class\n",
    "\n",
    "print(data['class'].value_counts())"
   ]
  },
  {
   "cell_type": "markdown",
   "metadata": {},
   "source": [
    "### performing min-max normalization"
   ]
  },
  {
   "cell_type": "code",
   "execution_count": 12,
   "metadata": {},
   "outputs": [],
   "source": [
    "#storing the max value of each column\n",
    "\n",
    "max_values=np.max(data)\n",
    "\n",
    "#storing the min value of each column\n",
    "\n",
    "min_values=np.min(data)\n",
    "\n",
    "#doing min- max normalization for each input column\n",
    "\n",
    "for col_num in range(data.shape[1]-1):\n",
    "    data[data.columns[col_num]]=(data[data.columns[col_num]]-min_values[col_num])/(max_values[col_num]-min_values[col_num])"
   ]
  },
  {
   "cell_type": "markdown",
   "metadata": {},
   "source": [
    "# Q1.C : reporting  cross-validated test set error"
   ]
  },
  {
   "cell_type": "code",
   "execution_count": 13,
   "metadata": {},
   "outputs": [],
   "source": [
    "df=data"
   ]
  },
  {
   "cell_type": "code",
   "execution_count": 14,
   "metadata": {},
   "outputs": [],
   "source": [
    "#DATA SPLITTING\n",
    "\n",
    "np.random.seed(1)\n",
    "\n",
    "#TEST-TRAIN SPLIT\n",
    "\n",
    "mask=np.random.rand(len(df))<0.8\n",
    "train_df=df[mask]\n",
    "test_df=df[~mask]\n"
   ]
  },
  {
   "cell_type": "code",
   "execution_count": 15,
   "metadata": {},
   "outputs": [],
   "source": [
    "#FIRST DIVIDING TRAIN DATA INTO 2 EQUAL PARTS\n",
    "\n",
    "part1=train_df.sample(frac=0.5)\n",
    "part2=train_df.drop(part1.index)\n",
    "\n",
    "#NOW FURTHER DIVIDING THE DIVIDED PARTS INTO 2 SO THAT WE GET 4 PARTS\n",
    "\n",
    "part11=part1.sample(frac=0.5)\n",
    "part12=part1.drop(part11.index)\n",
    "part21=part2.sample(frac=0.5)\n",
    "part22=part2.drop(part21.index)"
   ]
  },
  {
   "cell_type": "code",
   "execution_count": 16,
   "metadata": {},
   "outputs": [],
   "source": [
    "#making 4 differet train sets (by leaving out one of the parts in each set) for 4 fold cross validation\n",
    "\n",
    "train123=pd.concat([part11,part12,part21])\n",
    "train124=pd.concat([part11,part12,part22])\n",
    "train134=pd.concat([part11,part21,part22])\n",
    "train234=pd.concat([part12,part21,part22])"
   ]
  },
  {
   "cell_type": "code",
   "execution_count": 17,
   "metadata": {},
   "outputs": [],
   "source": [
    "#DEFINING CROSS VALIDATION FUNCTION\n",
    "\n",
    "def cross_val(epoches):\n",
    "\n",
    "    \n",
    "    #GIVING THE TRAIN SET AND EPOCHES AS INPUT TO STOCHASTICSUBSGD METHOD i.e PERCEPTRON ALGORITHM\n",
    "    #GIVING THE WEIGHTS RETURNED BY STOCHASTICSUBSGD METHOD AND LEFT OVER PART FROM THAT TRAIN SET AS INPUT TO PREDICTION METHOD\n",
    "    #FINDING THE ERROR USING error function\n",
    "    \n",
    "    #REPEATING THIS FOR EACH OF 4 DIFF TRAIN SETS\n",
    "    \n",
    "    w1=stochasticsubsgd(train123.iloc[:,:-1],train123.iloc[:,-1],epoches)\n",
    "    y_hat1=prediction(part22.iloc[:,:-1],w1)\n",
    "    error1=error(part22.iloc[:,-1],y_hat1)\n",
    "    \n",
    "    w2=stochasticsubsgd(train124.iloc[:,:-1],train124.iloc[:,-1],epoches)\n",
    "    y_hat2=prediction(part21.iloc[:,:-1],w2)\n",
    "    error2=error(part21.iloc[:,-1],y_hat2)\n",
    "    \n",
    "    w3=stochasticsubsgd(train134.iloc[:,:-1],train134.iloc[:,-1],epoches)\n",
    "    y_hat3=prediction(part12.iloc[:,:-1],w3)\n",
    "    error3=error(part12.iloc[:,-1],y_hat3)\n",
    "    \n",
    "    w4=stochasticsubsgd(train234.iloc[:,:-1],train234.iloc[:,-1],epoches)\n",
    "    y_hat4=prediction(part11.iloc[:,:-1],w4)\n",
    "    error4=error(part11.iloc[:,-1],y_hat4)\n",
    "    \n",
    "    \n",
    "    #CALCULATING THE AVG ERROR \n",
    "    \n",
    "    avgerror=(error1+error2+error3+error4)/4\n",
    "    \n",
    "    #RETURNING THE ERROR\n",
    "    \n",
    "    return avgerror"
   ]
  },
  {
   "cell_type": "code",
   "execution_count": 18,
   "metadata": {},
   "outputs": [
    {
     "name": "stdout",
     "output_type": "stream",
     "text": [
      "OPTIMAL EPOCHES VALUE USING 4 FOLD CROSS VALIDATION IS 80 THE  ERROR IS 0.3073770491803279 %\n"
     ]
    }
   ],
   "source": [
    "#FINDING THE BEST MODEL (HYPERPARAMETER:NO OF EPOCHES)\n",
    "\n",
    "best_epoches=0\n",
    "best_error=1000000\n",
    "\n",
    "#LOOPING THROUGH DIFFERENT EPOCHES VALUES\n",
    "\n",
    "for i in range(10,100,10):\n",
    "    avgerror=cross_val(i)\n",
    "    if avgerror<best_error:\n",
    "        best_error=avgerror\n",
    "        best_epoches=i\n",
    "        \n",
    "#PRINTING THE OPTIMAL EPOCHES NUMBER\n",
    "\n",
    "print('OPTIMAL EPOCHES VALUE USING 4 FOLD CROSS VALIDATION IS',best_epoches,'THE  ERROR IS',best_error*100,'%')\n",
    "    "
   ]
  },
  {
   "cell_type": "markdown",
   "metadata": {},
   "source": [
    "# Q1.d : reporting  F1 score on the held out set for  best model"
   ]
  },
  {
   "cell_type": "code",
   "execution_count": 19,
   "metadata": {},
   "outputs": [],
   "source": [
    "#TRAINING THE MODEL FOR BEST EPOCHES VALUE\n",
    "\n",
    "w=stochasticsubsgd(train_df.iloc[:,:-1],train_df.iloc[:,-1],best_epoches)\n",
    "\n",
    "#STROING THE PREDICTED OUTPUTS OF TEST DATA ON THE BEST MODEL\n",
    "\n",
    "y_hat=prediction(test_df.iloc[:,:-1],w)\n",
    "y=np.array(test_df.iloc[:,-1])"
   ]
  },
  {
   "cell_type": "code",
   "execution_count": 20,
   "metadata": {},
   "outputs": [],
   "source": [
    "#INITIALIZING THE TRUE POSITIVE ,TRUE NEGATIVE , FALSE POSITIVE AND FALSE NEGATIVE VALUES\n",
    "\n",
    "TP=0\n",
    "TN=0\n",
    "FP=0\n",
    "FN=0"
   ]
  },
  {
   "cell_type": "code",
   "execution_count": 21,
   "metadata": {},
   "outputs": [],
   "source": [
    "#CALCULATING THE TOTAL TRUE POSITIVE ,TRUE NEGATIVE , FALSE POSITIVE AND FALSE NEGATIVE VALUES\n",
    "\n",
    "for i in range(len(y)):\n",
    "    if y[i]==1 and y_hat[i]==1:\n",
    "        TP+=1\n",
    "    elif y[i]==1 and y_hat[i]!=1:\n",
    "        FN+=1\n",
    "    elif y[i]==-1 and y_hat[i]==-1:\n",
    "        TN+=1\n",
    "    else:\n",
    "        FP+=1"
   ]
  },
  {
   "cell_type": "code",
   "execution_count": 22,
   "metadata": {},
   "outputs": [
    {
     "name": "stdout",
     "output_type": "stream",
     "text": [
      "98 147 0 1\n"
     ]
    }
   ],
   "source": [
    "print(TP,TN,FP,FN)"
   ]
  },
  {
   "cell_type": "code",
   "execution_count": 23,
   "metadata": {},
   "outputs": [],
   "source": [
    "#CALCULATING PRECISION AND RECALL FROM TRUE POSITIVE ,TRUE NEGATIVE , FALSE POSITIVE AND FALSE NEGATIVE VALUES\n",
    "\n",
    "PRE=TP/(TP+FP)\n",
    "REC=TP/(TP+FN)\n",
    "\n",
    "#CALCULATING F1 SCORE FROM PRECISION AND RECALL\n",
    "\n",
    "F1=(2*PRE*REC)/(PRE+REC)"
   ]
  },
  {
   "cell_type": "code",
   "execution_count": 24,
   "metadata": {},
   "outputs": [
    {
     "name": "stdout",
     "output_type": "stream",
     "text": [
      "F1 score on held out set is : 0.9949238578680203\n"
     ]
    }
   ],
   "source": [
    "print('F1 score on held out set is :', F1)"
   ]
  },
  {
   "cell_type": "markdown",
   "metadata": {},
   "source": [
    "# Q2.a : Calculating and Plotting pdf of analytic posterior"
   ]
  },
  {
   "cell_type": "markdown",
   "metadata": {},
   "source": [
    "# Derivation\n",
    "### Likelihood of n observations iid N($\\mu$,${\\sigma}^{2}$)\n",
    "### $f(y_1,y_2,..,y_n|\\mu,\\sigma^2)= \\prod_{i=1}^{n}\\frac{1}{\\sqrt{2\\pi{\\sigma}}^2} e^\\left( \\frac{-1}{2\\sigma^2}(y_i-\\mu)^2 \\right)$\n",
    "###                $\\hspace{5.15cm}= \\left(\\frac{-1}{\\sqrt{2\\pi\\sigma^2}}\\right)^2 e^\\left(\\frac{-1}{2\\sigma^2}\\sum_{i=1}^{n}(y_i-\\mu)^2\\right)$\n",
    "###                $\\hspace{5.15cm}= \\alpha e^\\left(\\frac{-1}{2\\sigma^2} \\sum_{i=1}^{n}({y_i}^2+\\mu^2-2\\mu y_i)\\right)$\n",
    "\n",
    "###                $\\hspace{5.15cm}=e^\\left(\\frac{-1}{2\\sigma^2}(\\sum_{i=1}^{n}{y_i}^2+n \\mu^2 -2\\mu n \\bar{y})\\right)$\n",
    "\n",
    "###                $\\hspace{5.15cm}=e^\\left(\\frac{-n}{2\\sigma^2}(\\mu^2 -2\\mu\\bar{y}+\\frac{1}{n}\\sum_{i=1}^{n}{y_i}^2)\\right)$\n",
    "\n",
    "###                $\\hspace{5.15cm}=e^\\left(\\frac{-1}{2{\\sigma_l}^2}(\\mu - \\mu_l)^2\\right)$\n",
    "\n",
    "###                $\\hspace{5.15cm}=e^\\left(\\frac{-1}{2{\\sigma_l}^2}(\\mu^2 - 2\\mu \\mu_l + {\\mu_l}^2)\\right)$\n",
    "\n",
    "### $\\hspace{2cm} \\mu_l = \\bar{y}, \\hspace{1cm}\\frac{-n}{2\\sigma^2}=\\frac{-1}{2\\sigma^2}$\n",
    "\n",
    "### $\\hspace{4.85cm} {\\sigma_l}^2=\\frac{\\sigma^2}{n}$\n",
    "\n",
    "## $\\hspace{4.85cm} ~N\\left(\\bar{y},\\frac{\\sigma^2}{n}\\right)$"
   ]
  },
  {
   "cell_type": "markdown",
   "metadata": {},
   "source": [
    "### let prior be : $N(m,s^2)$\n",
    "###  Normal Prior * Normal Liklihood will be a Normal Distribution $N\\left(\\mu_n,{\\sigma_n}^2 \\right)$\n",
    "### As we know $s^2$ and $\\sigma^2$ ,we can ignore the constant term\n",
    "### $\\hspace{3cm}\\left( \\frac{1}{\\sqrt{2 \\pi \\frac{\\sigma^2}{n}}} \\right)^n * \\left( \\frac{1}{\\sqrt{2 \\pi s^2}} \\right)$\n",
    "### $g(\\mu|y_1,y_2,...,y_n)\\hspace{1cm}\\alpha \\hspace{1cm}g(\\mu)*f(y_1,y_2,..,y_n|\\mu)$\n",
    "\n",
    "### $\\hspace{5.3cm}\\alpha \\hspace{0.5cm} exp\\left( \\frac{-1}{2s^2}(\\mu - m)^2 \\right) * exp\\left( \\frac{-n}{2\\sigma^2}(\\mu - \\bar{y})^2 \\right)$\n",
    "\n",
    "### $\\hspace{5.3cm}= \\hspace{0.5cm} exp\\left( \\frac{-1}{2s^2}(\\mu^2 + m^2 -2\\mu m) \\right) * exp\\left( \\frac{-n}{2\\sigma^2}(\\mu^2 + \\bar{y}^2 - 2\\mu \\bar{y}) \\right)$\n",
    "\n",
    "### $\\hspace{5.3cm}= \\hspace{0.5cm} exp\\left( \\frac{-1}{2} \\left( \\mu^2 \\left(\\frac{1}{s^2}+\\frac{n}{\\sigma^2}\\right)-2\\mu\\left( \\frac{m}{s^2}+\\frac{n\\bar{y}}{\\sigma^2}\\right)+\\frac{m^2}{s^2}+\\frac{\\bar{y}^2}{\\sigma^2}\\right)  \\right)$\n",
    "\n",
    "### we expect the result in the form $exp\\left( \\frac{-1}{2{\\sigma_n}^2}(\\mu^2 + {\\mu_n}^2 -2 \\mu \\mu_n)\\right)$\n",
    "\n",
    "### $\\hspace{2cm} \\frac{-1}{2{\\sigma_n}^2}\\mu^2 = \\frac{-\\mu^2}{2} \\left( \\frac{1}{s^2}+\\frac{n}{\\sigma^2}\\right) => \\frac{1}{{\\sigma_n}^2}=\\frac{1}{s^2}+\\frac{n}{\\sigma^2} $\n",
    "\n",
    "### $\\hspace{2cm} \\frac{1}{{\\sigma_n}^2}=\\frac{\\sigma^2+s^2n}{\\sigma^2s^2}=>{\\sigma_n}^2=\\frac{\\sigma^2s^2}{\\sigma^2+s^2n}$\n",
    "\n",
    "### $\\hspace{2cm} \\frac{2\\mu\\mu_n}{2{\\sigma_n}^2}=\\frac{\\mu\\mu_n}{{\\sigma_n}^2}=\\mu\\left( \\frac{m}{s^2}+\\frac{n\\bar{y}}{\\sigma^2} \\right)$\n",
    "\n",
    "### $\\hspace{2cm}\\frac{\\mu_n}{{\\sigma_n}^2}=\\frac{m\\sigma^2+n\\bar{y}s^2}{\\sigma^2s^2}$\n",
    "\n",
    "### $\\hspace{2cm}\\mu_n={\\sigma_n}^2\\left( \\frac{m\\sigma^2+n\\bar{y}s^2}{\\sigma^2s^2} \\right)=\\frac{\\sigma^2s^2}{\\sigma^2+s^2n}\\left(\\frac{m\\sigma^2+n\\bar{y}s^2}{\\sigma^2s^2} \\right)$\n",
    "\n",
    "### $\\hspace{2.8cm}= \\frac{m\\sigma^2+n\\bar{y}s^2}{\\sigma^2+s^2n}=\\frac{\\sigma^2}{\\sigma^2+s^2n}m+\\frac{s^2}{\\sigma^2+s^2n}n\\bar{y}$\n",
    "\n",
    "### $\\hspace{2cm}\\mu_n=\\frac{\\sigma^2}{\\sigma^2+s^2n}m+\\frac{s^2}{\\sigma^2+s^2n}n\\bar{y}$\n",
    "\n",
    "### The posterior Normal Distribution is $N\\left( \\frac{\\sigma^2}{\\sigma^2+s^2n}m+\\frac{s^2}{\\sigma^2+s^2n}n\\bar{y}, \\frac{\\sigma^2s^2}{\\sigma^2+s^2n}\\right)$"
   ]
  },
  {
   "cell_type": "code",
   "execution_count": 25,
   "metadata": {},
   "outputs": [],
   "source": [
    "#generating 50 new data samples from a normal distribution with mean 10 and SD 5\n",
    "\n",
    "mu=10\n",
    "sigma=5\n",
    "n=50\n",
    "data= np.random.normal(mu,sigma,n)"
   ]
  },
  {
   "cell_type": "code",
   "execution_count": 26,
   "metadata": {},
   "outputs": [],
   "source": [
    "#calculating the mean and sd for likelihood distribution(normal) from data(the derivation is above)\n",
    "\n",
    "lh_mu=np.mean(data)\n",
    "lh_sigma=np.sqrt(sigma**2/n)"
   ]
  },
  {
   "cell_type": "code",
   "execution_count": 27,
   "metadata": {},
   "outputs": [],
   "source": [
    "#assigning the mean and sd for prior distribution(normal) (this is given in question)\n",
    "\n",
    "p_mu=25\n",
    "p_sigma=5"
   ]
  },
  {
   "cell_type": "code",
   "execution_count": 28,
   "metadata": {},
   "outputs": [],
   "source": [
    "#calculating then mean and sd for posterior distribution (normal) using conjuacy\n",
    "#derivation of posterior mean and sd interms of prior and likelihood mean and sd are derived above\n",
    "\n",
    "po_mu=(p_mu*(lh_sigma**2)+lh_mu*(p_sigma**2))/(lh_sigma**2+p_sigma**2)\n",
    "po_sigma=np.sqrt(((lh_sigma**2)*(p_sigma**2))/((lh_sigma**2)+(p_sigma**2)))"
   ]
  },
  {
   "cell_type": "code",
   "execution_count": 29,
   "metadata": {},
   "outputs": [],
   "source": [
    "#defining a pdf function to return probablity values of x for the data sent\n",
    "\n",
    "def pdf(x,data):\n",
    "    sd=np.sqrt(np.var(data))\n",
    "    mean=np.mean(data)\n",
    "    return 1/(sd * np.sqrt(2 * np.pi)) *np.exp( - (x - mean)**2 / (2 * sd**2) )"
   ]
  },
  {
   "cell_type": "code",
   "execution_count": 30,
   "metadata": {},
   "outputs": [],
   "source": [
    "#function to calculate the Bayesian posterior probability\n",
    "\n",
    "def posterior(x):\n",
    "    return 1/(po_sigma * np.sqrt(2 * np.pi)) *np.exp( - (x - po_mu)**2 / (2 * po_sigma**2) )"
   ]
  },
  {
   "cell_type": "code",
   "execution_count": 31,
   "metadata": {},
   "outputs": [],
   "source": [
    "#generating sample data from mean and sd of likelihood,prior,posterior respectively(for plotting pdfs)\n",
    "\n",
    "data1= np.random.normal(lh_mu,lh_sigma,500)\n",
    "data2= np.random.normal(p_mu,p_sigma,500)\n",
    "data3= np.random.normal(po_mu,po_sigma,500)"
   ]
  },
  {
   "cell_type": "code",
   "execution_count": 32,
   "metadata": {},
   "outputs": [
    {
     "data": {
      "text/plain": [
       "<matplotlib.legend.Legend at 0x295bf550fa0>"
      ]
     },
     "execution_count": 32,
     "metadata": {},
     "output_type": "execute_result"
    },
    {
     "data": {
      "image/png": "[encoded data removed]",
      "text/plain": [
       "<Figure size 432x288 with 1 Axes>"
      ]
     },
     "metadata": {
      "needs_background": "light"
     },
     "output_type": "display_data"
    }
   ],
   "source": [
    "#plotting the histograms of likelihood,prior and posterior distributions\n",
    "\n",
    "plot1=plt.figure(1)\n",
    "plt.title('Histograms of likelihood,prior,posterior distributions')\n",
    "\n",
    "(values, bins1, _) = plt.hist(data1,bins=100,density=True,color='r',label=\"likelihood\")\n",
    "(values, bins2, _) = plt.hist(data2,bins=100,density=True,color='b',label=\"prior\")\n",
    "(values, bins3, _) = plt.hist(data3,bins=100,density=True,color='g',label=\"posterior\")\n",
    "\n",
    "plt.legend()"
   ]
  },
  {
   "cell_type": "code",
   "execution_count": 33,
   "metadata": {},
   "outputs": [
    {
     "data": {
      "text/plain": [
       "<matplotlib.legend.Legend at 0x295bf82da90>"
      ]
     },
     "execution_count": 33,
     "metadata": {},
     "output_type": "execute_result"
    },
    {
     "data": {
      "image/png": "[encoded data removed]",
      "text/plain": [
       "<Figure size 432x288 with 1 Axes>"
      ]
     },
     "metadata": {
      "needs_background": "light"
     },
     "output_type": "display_data"
    }
   ],
   "source": [
    "#plotting the pdfs of likelihood,prior and posterior distributions\n",
    "\n",
    "plot2=plt.figure(2)\n",
    "plt.title('pdfs of likelihood,prior,posterior distributions')\n",
    "\n",
    "bin_centers1 = 0.5*(bins1[1:] + bins1[:-1])\n",
    "den1 = pdf(bin_centers1,data1)\n",
    "plt.plot(bin_centers1, den1 , label=\"likelihood\",color='r')\n",
    "\n",
    "bin_centers2 = 0.5*(bins2[1:] + bins2[:-1])\n",
    "den2 = pdf(bin_centers2,data2)\n",
    "plt.plot(bin_centers2, den2 , label=\"prior\",color='b')\n",
    "\n",
    "bin_centers3 = 0.5*(bins3[1:] + bins3[:-1])\n",
    "den3 = posterior(bin_centers3)\n",
    "plt.plot(bin_centers3, den3 , label=\"posterior\",color='g')\n",
    "\n",
    "plt.legend()"
   ]
  },
  {
   "cell_type": "markdown",
   "metadata": {},
   "source": [
    "# Q2.b : Implementing the Metropolis algorithm"
   ]
  },
  {
   "cell_type": "code",
   "execution_count": 34,
   "metadata": {},
   "outputs": [],
   "source": [
    "#prior function to return the probability of x in the prior distribution\n",
    "\n",
    "def prior(x):\n",
    "    \n",
    "    #data2 is sampled from prior distribution\n",
    "    \n",
    "    return pdf(x,data2)"
   ]
  },
  {
   "cell_type": "code",
   "execution_count": 35,
   "metadata": {},
   "outputs": [],
   "source": [
    "#likelihood function to return the probability of x in the likelihood distribution\n",
    "\n",
    "def likelihood(x):\n",
    "    \n",
    "    #data2 is sampled from likelihood distribution\n",
    "    \n",
    "    return pdf(x,data1)"
   ]
  },
  {
   "cell_type": "code",
   "execution_count": 36,
   "metadata": {},
   "outputs": [],
   "source": [
    "#transition model to generate the x_next based on the current x\n",
    "#choosing transition model to be normal distribution with mean as x and standard deviation as sd\n",
    "\n",
    "def proposal_model(x,sd):\n",
    "    \n",
    "    #returning x_new\n",
    "    \n",
    "    return np.random.normal(x,sd,1)"
   ]
  },
  {
   "cell_type": "code",
   "execution_count": 37,
   "metadata": {},
   "outputs": [],
   "source": [
    "#acceptance function returns whether the x_new is accepted or not\n",
    "\n",
    "def acceptance(x_pos,x_new_pos):\n",
    "    \n",
    "    r=x_new_pos/x_pos\n",
    "    \n",
    "    #if r is greater than 1 then x_new is accepted so we return true\n",
    "    \n",
    "    if r>=1:\n",
    "        \n",
    "        return True\n",
    "   \n",
    "    #if r is not greater than 1 \n",
    "    \n",
    "    else:\n",
    "        \n",
    "        #generate random no between 0 and 1\n",
    "        \n",
    "        accept=np.random.uniform(0,1)\n",
    "        \n",
    "        #return true if that number is less than r else false\n",
    "        \n",
    "        return (accept < r)"
   ]
  },
  {
   "cell_type": "code",
   "execution_count": 38,
   "metadata": {},
   "outputs": [],
   "source": [
    "#defining metropolis algo\n",
    "\n",
    "def metropolis_hastings(param_init,iterations,sd_for_transition_model):\n",
    "    \n",
    "    #initializing\n",
    "    \n",
    "    x = param_init\n",
    "    accepted = []\n",
    "    rejected = []   \n",
    "    accepted_iter=[]\n",
    "    \n",
    "    #until the no of iterations are completed\n",
    "    \n",
    "    for i in range(iterations):\n",
    "         \n",
    "        #computing likelihood probability of x\n",
    "        \n",
    "        x_lik = likelihood(x)\n",
    "        \n",
    "        #computing prior probability of x\n",
    "        \n",
    "        x_prior = prior(x)\n",
    "        \n",
    "        #getting x_new from transition model\n",
    "        \n",
    "        x_new =  proposal_model(x,sd_for_transition_model)   \n",
    "        \n",
    "        #computing likelihood probability of x_new\n",
    "        \n",
    "        x_new_lik = likelihood(x_new)\n",
    "        \n",
    "        #computing prior probability of x_new\n",
    "        \n",
    "        x_new_prior=prior(x_new)\n",
    "        \n",
    "        #computing posterior probability(by excluding denominatior) of x\n",
    "        \n",
    "        x_po=x_lik * x_prior\n",
    "        \n",
    "        #computing posterior probability(by excluding denominatior) of x_new\n",
    "        \n",
    "        x_new_po=x_new_lik * x_new_prior\n",
    "        \n",
    "        #checking if the x_new is accepeted or not\n",
    "        \n",
    "        if (acceptance( x_po , x_new_po )): \n",
    "            \n",
    "            #if x_new is accepted making x as x_new\n",
    "            \n",
    "            x = x_new\n",
    "            \n",
    "            #adding x_new to accepted list and iteration number to accepted iterations list\n",
    "            \n",
    "            accepted.append(x_new)\n",
    "            accepted_iter.append(i)\n",
    "            \n",
    "        else:\n",
    "            \n",
    "            #adding x_new to rejected list\n",
    "            \n",
    "            rejected.append(x_new)            \n",
    "                \n",
    "    #returning the accepted and rejected arrays\n",
    "    \n",
    "    return np.array(accepted), np.array(rejected) , np.array(accepted_iter)"
   ]
  },
  {
   "cell_type": "code",
   "execution_count": 39,
   "metadata": {},
   "outputs": [],
   "source": [
    "#running metropolis algo for 5000 iterations with initial value as 5 and sd for transition model as 1\n",
    "\n",
    "accepted, rejected , accepted_iter = metropolis_hastings(5,5000,1)"
   ]
  },
  {
   "cell_type": "code",
   "execution_count": 40,
   "metadata": {},
   "outputs": [
    {
     "data": {
      "text/plain": [
       "<matplotlib.legend.Legend at 0x295bf8ba970>"
      ]
     },
     "execution_count": 40,
     "metadata": {},
     "output_type": "execute_result"
    },
    {
     "data": {
      "image/png": "[encoded data removed]",
      "text/plain": [
       "<Figure size 432x288 with 1 Axes>"
      ]
     },
     "metadata": {
      "needs_background": "light"
     },
     "output_type": "display_data"
    }
   ],
   "source": [
    "#plotting the histograms of analytical posterior and posterior estimated using metropolis algo\n",
    "\n",
    "plot1=plt.figure(1)\n",
    "plt.title('histograms of analytical posterior and posterior estimated using metropolis algo')\n",
    "\n",
    "(values, bins1, _) = plt.hist(data3,bins=100,density=True,color='r',label=\"analytical posterior\")\n",
    "(values, bins2, _) = plt.hist(accepted,bins=100,density=True,color='b',label=\"metropolis posterior\")\n",
    "\n",
    "plt.legend()"
   ]
  },
  {
   "cell_type": "code",
   "execution_count": 41,
   "metadata": {},
   "outputs": [
    {
     "data": {
      "text/plain": [
       "<matplotlib.legend.Legend at 0x295bfb50fd0>"
      ]
     },
     "execution_count": 41,
     "metadata": {},
     "output_type": "execute_result"
    },
    {
     "data": {
      "image/png": "[encoded data removed]",
      "text/plain": [
       "<Figure size 432x288 with 1 Axes>"
      ]
     },
     "metadata": {
      "needs_background": "light"
     },
     "output_type": "display_data"
    }
   ],
   "source": [
    "#plotting the pdfs of analytical posterior and posterior estimated using metropolis algo\n",
    "\n",
    "plot2=plt.figure(2)\n",
    "plt.title('pdfs of analytical posterior and posterior estimated using metropolis algo')\n",
    "\n",
    "bin_centers1 = 0.5*(bins1[1:] + bins1[:-1])\n",
    "den1 = pdf(bin_centers1,data3)\n",
    "plt.plot(bin_centers1, den1 , label=\"analytical posterior\",color='r')\n",
    "\n",
    "bin_centers2 = 0.5*(bins2[1:] + bins2[:-1])\n",
    "den2 = pdf(bin_centers2,accepted)\n",
    "plt.plot(bin_centers2, den2 , label=\"metropolis posterior\",color='b')\n",
    "\n",
    "plt.legend()"
   ]
  },
  {
   "cell_type": "code",
   "execution_count": 42,
   "metadata": {},
   "outputs": [
    {
     "data": {
      "text/plain": [
       "<matplotlib.legend.Legend at 0x295c0b71730>"
      ]
     },
     "execution_count": 42,
     "metadata": {},
     "output_type": "execute_result"
    },
    {
     "data": {
      "image/png": "[encoded data removed]",
      "text/plain": [
       "<Figure size 432x288 with 1 Axes>"
      ]
     },
     "metadata": {
      "needs_background": "light"
     },
     "output_type": "display_data"
    }
   ],
   "source": [
    "#plotting the pdf of analytical posterior and histogram of samples from posterior estimated using metropolis algo\n",
    "#this is the plot asked in question\n",
    "\n",
    "plot2=plt.figure(2)\n",
    "plt.title('pdf of analytical posterior and histogram of samples from metropolis posterior')\n",
    "\n",
    "bin_centers1 = 0.5*(bins1[1:] + bins1[:-1])\n",
    "den1 = pdf(bin_centers1,data3)\n",
    "plt.plot(bin_centers1, den1 , label=\"analytical posterior\",color='r')\n",
    "\n",
    "(values, bins2, _) = plt.hist(accepted,bins=100,density=True,color='b',label=\"metropolis posterior samples\")\n",
    "\n",
    "plt.legend()"
   ]
  },
  {
   "cell_type": "markdown",
   "metadata": {},
   "source": [
    "# 2.C : finding optimal proposal width i.e sd of transition function"
   ]
  },
  {
   "cell_type": "code",
   "execution_count": 43,
   "metadata": {},
   "outputs": [
    {
     "data": {
      "text/plain": [
       "[<matplotlib.lines.Line2D at 0x295c0ce9670>]"
      ]
     },
     "execution_count": 43,
     "metadata": {},
     "output_type": "execute_result"
    },
    {
     "data": {
      "image/png": "[encoded data removed]",
      "text/plain": [
       "<Figure size 432x288 with 1 Axes>"
      ]
     },
     "metadata": {
      "needs_background": "light"
     },
     "output_type": "display_data"
    }
   ],
   "source": [
    "#running metropolis algo for very small(0.1) sd value of proposal distribution\n",
    "\n",
    "accepted, rejected , accepted_iter = metropolis_hastings(5,5000,0.1)\n",
    "\n",
    "#plotting trace of accepted values\n",
    "\n",
    "plt.plot(accepted_iter,accepted)"
   ]
  },
  {
   "cell_type": "markdown",
   "metadata": {},
   "source": [
    "### A first observation is that if  sd of proposal distribution is very small, then virtually all proposed moves will be accepted, but they will represent very small movements, so overall the chain will not mix well "
   ]
  },
  {
   "cell_type": "code",
   "execution_count": 44,
   "metadata": {},
   "outputs": [
    {
     "name": "stdout",
     "output_type": "stream",
     "text": [
      "4695 305\n"
     ]
    }
   ],
   "source": [
    "#PRINTING THE NO OF ACCEPTED AND REJECTED SAMPLE\n",
    "\n",
    "print(len(accepted),len(rejected))"
   ]
  },
  {
   "cell_type": "markdown",
   "metadata": {},
   "source": [
    "### as you can see majority of the proposed samples got acceepted when sd is very less"
   ]
  },
  {
   "cell_type": "code",
   "execution_count": 45,
   "metadata": {},
   "outputs": [
    {
     "data": {
      "text/plain": [
       "[<matplotlib.lines.Line2D at 0x295c0d3dbb0>]"
      ]
     },
     "execution_count": 45,
     "metadata": {},
     "output_type": "execute_result"
    },
    {
     "data": {
      "image/png": "[encoded data removed]",
      "text/plain": [
       "<Figure size 432x288 with 1 Axes>"
      ]
     },
     "metadata": {
      "needs_background": "light"
     },
     "output_type": "display_data"
    }
   ],
   "source": [
    "#running metropolis algo for large(100) sd value of proposal distribution\n",
    "\n",
    "accepted, rejected , accepted_iter = metropolis_hastings(5,5000,100)\n",
    "\n",
    "#plotting trace of accepted values\n",
    "\n",
    "plt.plot(accepted_iter,accepted)"
   ]
  },
  {
   "cell_type": "markdown",
   "metadata": {},
   "source": [
    "### Similarly, if sd of proposal distribution  is very large, then most moves will be rejected, so the chain will usually not move at all"
   ]
  },
  {
   "cell_type": "code",
   "execution_count": 46,
   "metadata": {},
   "outputs": [
    {
     "name": "stdout",
     "output_type": "stream",
     "text": [
      "44 4956\n"
     ]
    }
   ],
   "source": [
    "#PRINTING THE NO OF ACCEPTED AND REJECTED SAMPLE\n",
    "\n",
    "print(len(accepted),len(rejected))"
   ]
  },
  {
   "cell_type": "markdown",
   "metadata": {},
   "source": [
    "### as you can see majority of the proposed samples got rejected when sd is very high"
   ]
  },
  {
   "cell_type": "markdown",
   "metadata": {},
   "source": [
    "## in this way the speed of convergence of sampling depends on proposal width i.e sd"
   ]
  },
  {
   "cell_type": "markdown",
   "metadata": {},
   "source": [
    "## now optimal sd of proposal distribution is a value between the two extremes, thus allowing for reasonable sized proposal moves together with a reasonably high acceptance probability"
   ]
  },
  {
   "cell_type": "markdown",
   "metadata": {},
   "source": [
    "## at the optimal sd value the number of accepted samples are almost same as the no of rejected samples"
   ]
  },
  {
   "cell_type": "code",
   "execution_count": 47,
   "metadata": {},
   "outputs": [],
   "source": [
    "#initializing variables to store optimal sd and no of accepted and rejected samples for that optimal sd \n",
    "\n",
    "optimal_sd=0\n",
    "optimal_sd_accepted=10000\n",
    "optimal_sd_rejected=0\n",
    "difference=[]"
   ]
  },
  {
   "cell_type": "code",
   "execution_count": 48,
   "metadata": {},
   "outputs": [],
   "source": [
    "#list of sd values to find the optimal one\n",
    "\n",
    "list_of_sd=[0.1,0.5,1,1.1,1.2,1.3,1.4,1.5,2,2.5,3,5,10,20,40]"
   ]
  },
  {
   "cell_type": "code",
   "execution_count": 49,
   "metadata": {},
   "outputs": [],
   "source": [
    "#looping through different sd values\n",
    "\n",
    "for i in list_of_sd:\n",
    "    \n",
    "    #getting accepted and rejected samples for each sd\n",
    "    \n",
    "    accepted, rejected , accepted_iter = metropolis_hastings(5,5000,i)\n",
    "    \n",
    "    diff=abs(len(accepted)-len(rejected))\n",
    "    \n",
    "    difference.append(diff)\n",
    "    \n",
    "    #finding optimal sd\n",
    "    \n",
    "    if diff<=abs(optimal_sd_accepted-optimal_sd_rejected):\n",
    "        \n",
    "        optimal_sd=i\n",
    "        optimal_sd_accepted=len(accepted)\n",
    "        optimal_sd_rejected=len(rejected)"
   ]
  },
  {
   "cell_type": "code",
   "execution_count": 50,
   "metadata": {},
   "outputs": [
    {
     "name": "stdout",
     "output_type": "stream",
     "text": [
      "optimal width of proposal distribution is:  1.5 \n",
      " the no of samples accepted using this optimal sd :  2417 \n",
      " the no of samples rejected using this optimal sd :  2583\n"
     ]
    },
    {
     "data": {
      "image/png": "[encoded data removed]",
      "text/plain": [
       "<Figure size 432x288 with 1 Axes>"
      ]
     },
     "metadata": {
      "needs_background": "light"
     },
     "output_type": "display_data"
    }
   ],
   "source": [
    "#plotting how the difference between accepted and rejected sample changes with sd\n",
    "\n",
    "plt.plot(list_of_sd,difference)\n",
    "\n",
    "\n",
    "#printing optimal sd\n",
    "\n",
    "print('optimal width of proposal distribution is: ',optimal_sd,'\\n',\n",
    "      'the no of samples accepted using this optimal sd : ',optimal_sd_accepted,'\\n',\n",
    "      'the no of samples rejected using this optimal sd : ',optimal_sd_rejected)"
   ]
  },
  {
   "cell_type": "markdown",
   "metadata": {},
   "source": [
    "### as you can see the no of accepted samples and no of rejected samples are almost same for this optimal width"
   ]
  },
  {
   "cell_type": "markdown",
   "metadata": {},
   "source": [
    "### we can also say that optimal sd is the sd of proposal distribution that gives the Acceptance Rate as close to 0.5\n",
    "### acceptance rate is the ratio of no of accepted samples to no of proposed samples"
   ]
  },
  {
   "cell_type": "code",
   "execution_count": null,
   "metadata": {},
   "outputs": [],
   "source": []
  }
 ],
 "metadata": {
  "kernelspec": {
   "display_name": "Python 3",
   "language": "python",
   "name": "python3"
  },
  "language_info": {
   "codemirror_mode": {
    "name": "ipython",
    "version": 3
   },
   "file_extension": ".py",
   "mimetype": "text/x-python",
   "name": "python",
   "nbconvert_exporter": "python",
   "pygments_lexer": "ipython3",
   "version": "3.8.5"
  }
 },
 "nbformat": 4,
 "nbformat_minor": 4
}
